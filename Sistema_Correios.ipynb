{
  "nbformat": 4,
  "nbformat_minor": 0,
  "metadata": {
    "colab": {
      "name": "Testes_emAula_Aula2.ipynb",
      "provenance": [],
      "include_colab_link": true
    },
    "kernelspec": {
      "name": "python3",
      "display_name": "Python 3"
    }
  },
  "cells": [
    {
      "cell_type": "markdown",
      "metadata": {
        "id": "view-in-github",
        "colab_type": "text"
      },
      "source": [
        "<a href=\"https://colab.research.google.com/github/LeoVila27/Intro_Ciencia_de_Dados/blob/master/Sistema_Correios.ipynb\" target=\"_parent\"><img src=\"https://colab.research.google.com/assets/colab-badge.svg\" alt=\"Open In Colab\"/></a>"
      ]
    },
    {
      "cell_type": "code",
      "metadata": {
        "id": "ZOjzd7x3W6IS",
        "colab": {
          "base_uri": "https://localhost:8080/"
        },
        "outputId": "87000109-50a9-4f17-c8cc-9afd0b59e84a"
      },
      "source": [
        "!pip install pycep-correios"
      ],
      "execution_count": 1,
      "outputs": [
        {
          "output_type": "stream",
          "text": [
            "Collecting pycep-correios\n",
            "  Downloading https://files.pythonhosted.org/packages/a7/f1/4d5ac723907f04e3d3f367d6036b27182b707aba2b7eac1d77386da77fe4/pycep_correios-4.0.4-py2.py3-none-any.whl\n",
            "Requirement already satisfied: requests>=2.7.0 in /usr/local/lib/python3.6/dist-packages (from pycep-correios) (2.23.0)\n",
            "Collecting zeep>=2.0.0\n",
            "\u001b[?25l  Downloading https://files.pythonhosted.org/packages/e5/8c/b14cbe8562e582786dbd86487c041827cb2a4dafcaf832c035878e94651f/zeep-4.0.0-py2.py3-none-any.whl (100kB)\n",
            "\u001b[K     |████████████████████████████████| 102kB 3.9MB/s \n",
            "\u001b[?25hCollecting deprecated\n",
            "  Downloading https://files.pythonhosted.org/packages/76/a1/05d7f62f956d77b23a640efc650f80ce24483aa2f85a09c03fb64f49e879/Deprecated-1.2.10-py2.py3-none-any.whl\n",
            "Requirement already satisfied: idna<3,>=2.5 in /usr/local/lib/python3.6/dist-packages (from requests>=2.7.0->pycep-correios) (2.10)\n",
            "Requirement already satisfied: chardet<4,>=3.0.2 in /usr/local/lib/python3.6/dist-packages (from requests>=2.7.0->pycep-correios) (3.0.4)\n",
            "Requirement already satisfied: certifi>=2017.4.17 in /usr/local/lib/python3.6/dist-packages (from requests>=2.7.0->pycep-correios) (2020.12.5)\n",
            "Requirement already satisfied: urllib3!=1.25.0,!=1.25.1,<1.26,>=1.21.1 in /usr/local/lib/python3.6/dist-packages (from requests>=2.7.0->pycep-correios) (1.24.3)\n",
            "Requirement already satisfied: defusedxml>=0.4.1 in /usr/local/lib/python3.6/dist-packages (from zeep>=2.0.0->pycep-correios) (0.6.0)\n",
            "Requirement already satisfied: pytz in /usr/local/lib/python3.6/dist-packages (from zeep>=2.0.0->pycep-correios) (2018.9)\n",
            "Collecting appdirs>=1.4.0\n",
            "  Downloading https://files.pythonhosted.org/packages/3b/00/2344469e2084fb287c2e0b57b72910309874c3245463acd6cf5e3db69324/appdirs-1.4.4-py2.py3-none-any.whl\n",
            "Collecting isodate>=0.5.4\n",
            "\u001b[?25l  Downloading https://files.pythonhosted.org/packages/9b/9f/b36f7774ff5ea8e428fdcfc4bb332c39ee5b9362ddd3d40d9516a55221b2/isodate-0.6.0-py2.py3-none-any.whl (45kB)\n",
            "\u001b[K     |████████████████████████████████| 51kB 5.0MB/s \n",
            "\u001b[?25hCollecting requests-file>=1.5.1\n",
            "  Downloading https://files.pythonhosted.org/packages/77/86/cdb5e8eaed90796aa83a6d9f75cfbd37af553c47a291cd47bc410ef9bdb2/requests_file-1.5.1-py2.py3-none-any.whl\n",
            "Requirement already satisfied: lxml>=3.1.0 in /usr/local/lib/python3.6/dist-packages (from zeep>=2.0.0->pycep-correios) (4.2.6)\n",
            "Requirement already satisfied: attrs>=17.2.0 in /usr/local/lib/python3.6/dist-packages (from zeep>=2.0.0->pycep-correios) (20.3.0)\n",
            "Collecting cached-property>=1.3.0\n",
            "  Downloading https://files.pythonhosted.org/packages/48/19/f2090f7dad41e225c7f2326e4cfe6fff49e57dedb5b53636c9551f86b069/cached_property-1.5.2-py2.py3-none-any.whl\n",
            "Collecting requests-toolbelt>=0.7.1\n",
            "\u001b[?25l  Downloading https://files.pythonhosted.org/packages/60/ef/7681134338fc097acef8d9b2f8abe0458e4d87559c689a8c306d0957ece5/requests_toolbelt-0.9.1-py2.py3-none-any.whl (54kB)\n",
            "\u001b[K     |████████████████████████████████| 61kB 6.3MB/s \n",
            "\u001b[?25hRequirement already satisfied: wrapt<2,>=1.10 in /usr/local/lib/python3.6/dist-packages (from deprecated->pycep-correios) (1.12.1)\n",
            "Requirement already satisfied: six in /usr/local/lib/python3.6/dist-packages (from isodate>=0.5.4->zeep>=2.0.0->pycep-correios) (1.15.0)\n",
            "Installing collected packages: appdirs, isodate, requests-file, cached-property, requests-toolbelt, zeep, deprecated, pycep-correios\n",
            "Successfully installed appdirs-1.4.4 cached-property-1.5.2 deprecated-1.2.10 isodate-0.6.0 pycep-correios-4.0.4 requests-file-1.5.1 requests-toolbelt-0.9.1 zeep-4.0.0\n"
          ],
          "name": "stdout"
        }
      ]
    },
    {
      "cell_type": "code",
      "metadata": {
        "id": "rx7xwoe8XEjJ",
        "colab": {
          "base_uri": "https://localhost:8080/"
        },
        "outputId": "9b445c23-8475-44fd-ffdb-1d94868cb85a"
      },
      "source": [
        "# fonte https://imasters.com.br/back-end/python-consulta-de-cep-com-pycepcorreios\n",
        "\n",
        "import pycep_correios\n",
        "\n",
        "endereco = pycep_correios.get_address_from_cep('09070000')\n",
        "\n",
        "\n",
        "print(endereco['bairro'])\n",
        "print(endereco['cidade'])"
      ],
      "execution_count": 2,
      "outputs": [
        {
          "output_type": "stream",
          "text": [
            "Santa Maria\n",
            "Santo André\n"
          ],
          "name": "stdout"
        }
      ]
    },
    {
      "cell_type": "code",
      "metadata": {
        "id": "mFt7bixiXJEd",
        "colab": {
          "base_uri": "https://localhost:8080/"
        },
        "outputId": "8dc5b51f-2452-4a07-d6e3-80056535554a"
      },
      "source": [
        "print(endereco)"
      ],
      "execution_count": 3,
      "outputs": [
        {
          "output_type": "stream",
          "text": [
            "{'bairro': 'Santa Maria', 'cep': '09070-000', 'cidade': 'Santo André', 'logradouro': 'Avenida Gago Coutinho', 'uf': 'SP', 'complemento': 'de 1/2 ao fim'}\n"
          ],
          "name": "stdout"
        }
      ]
    },
    {
      "cell_type": "code",
      "metadata": {
        "id": "jNqlsOByXU2t"
      },
      "source": [
        ""
      ],
      "execution_count": 3,
      "outputs": []
    },
    {
      "cell_type": "code",
      "metadata": {
        "id": "ebMYID-uXe8t",
        "colab": {
          "base_uri": "https://localhost:8080/"
        },
        "outputId": "81eb53d6-874a-410f-ebb4-86ca892c1a1e"
      },
      "source": [
        "import datetime\n",
        "\n",
        "print(datetime.date(2017,1,15))\n",
        "hj = datetime.datetime.now()"
      ],
      "execution_count": 4,
      "outputs": [
        {
          "output_type": "stream",
          "text": [
            "2017-01-15\n"
          ],
          "name": "stdout"
        }
      ]
    },
    {
      "cell_type": "code",
      "metadata": {
        "id": "2Vn3LlMrrdXq",
        "colab": {
          "base_uri": "https://localhost:8080/"
        },
        "outputId": "cd6b515d-8059-4ed4-c3cf-cc38cef3518e"
      },
      "source": [
        "print(hj)\n",
        "print(hj.year)\n",
        "print(hj.day)\n",
        "print(hj.month)"
      ],
      "execution_count": 5,
      "outputs": [
        {
          "output_type": "stream",
          "text": [
            "2020-12-14 23:55:27.931053\n",
            "2020\n",
            "14\n",
            "12\n"
          ],
          "name": "stdout"
        }
      ]
    },
    {
      "cell_type": "code",
      "metadata": {
        "id": "68zpZ8SBrn7X",
        "colab": {
          "base_uri": "https://localhost:8080/"
        },
        "outputId": "61856ec0-d271-419a-d5c3-9f4c2a86dbfb"
      },
      "source": [
        "print(hj)"
      ],
      "execution_count": 6,
      "outputs": [
        {
          "output_type": "stream",
          "text": [
            "2020-12-14 23:55:27.931053\n"
          ],
          "name": "stdout"
        }
      ]
    }
  ]
}