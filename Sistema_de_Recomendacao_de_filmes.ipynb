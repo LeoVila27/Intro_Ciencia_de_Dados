{
  "nbformat": 4,
  "nbformat_minor": 0,
  "metadata": {
    "colab": {
      "name": "S_Recomendação_emSala_Fundamentos2020.ipynb",
      "provenance": [],
      "collapsed_sections": [],
      "include_colab_link": true
    },
    "kernelspec": {
      "name": "python3",
      "display_name": "Python 3"
    }
  },
  "cells": [
    {
      "cell_type": "markdown",
      "metadata": {
        "id": "view-in-github",
        "colab_type": "text"
      },
      "source": [
        "<a href=\"https://colab.research.google.com/github/LeoVila27/Intro_Ciencia_de_Dados/blob/master/S_Recomenda%C3%A7%C3%A3o_emSala_Fundamentos2020.ipynb\" target=\"_parent\"><img src=\"https://colab.research.google.com/assets/colab-badge.svg\" alt=\"Open In Colab\"/></a>"
      ]
    },
    {
      "cell_type": "markdown",
      "metadata": {
        "id": "SEUqWpR2cLjc"
      },
      "source": [
        "https://grouplens.org/datasets/movielens/\n",
        "\n",
        "Este Exemplo: https://grouplens.org/datasets/movielens/10m/"
      ]
    },
    {
      "cell_type": "code",
      "metadata": {
        "colab": {
          "base_uri": "https://localhost:8080/"
        },
        "id": "swwWFRNEqH6_",
        "outputId": "a89cdb08-630b-495a-ba16-16dc74aef2b8"
      },
      "source": [
        "from google.colab import drive\n",
        "drive.mount('/content/drive')"
      ],
      "execution_count": 1,
      "outputs": [
        {
          "output_type": "stream",
          "text": [
            "Mounted at /content/drive\n"
          ],
          "name": "stdout"
        }
      ]
    },
    {
      "cell_type": "code",
      "metadata": {
        "colab": {
          "base_uri": "https://localhost:8080/"
        },
        "id": "ec-eGmqpLTMv",
        "outputId": "7675f3f5-c188-49f0-da72-8517499b477e"
      },
      "source": [
        "!pip install gitly==1.1.4\n",
        "\n",
        "# Importação, instanciação e instalação\n",
        "from gitly.colab.plot import GitlyPlotter\n",
        "gitly = GitlyPlotter( 'git' )"
      ],
      "execution_count": 2,
      "outputs": [
        {
          "output_type": "stream",
          "text": [
            "Collecting gitly==1.1.4\n",
            "  Downloading https://files.pythonhosted.org/packages/45/fe/0afeaec8b05a3056e3081c890ea7daae3674ef2849df792561c9bd5dd799/gitly-1.1.4.tar.gz\n",
            "Collecting plotly>=4.9.0\n",
            "\u001b[?25l  Downloading https://files.pythonhosted.org/packages/c9/09/315462259ab7b60a3d4b7159233ed700733c87d889755bdc00a9fb46d692/plotly-4.14.1-py2.py3-none-any.whl (13.2MB)\n",
            "\u001b[K     |████████████████████████████████| 13.2MB 292kB/s \n",
            "\u001b[?25hCollecting kaleido\n",
            "\u001b[?25l  Downloading https://files.pythonhosted.org/packages/83/39/1c960a971f8d27e6aa4f1462dc048275c98bbb46f16871269ba941bb4a04/kaleido-0.1.0-py2.py3-none-manylinux1_x86_64.whl (74.6MB)\n",
            "\u001b[K     |████████████████████████████████| 74.6MB 70kB/s \n",
            "\u001b[?25hRequirement already satisfied: six in /usr/local/lib/python3.6/dist-packages (from plotly>=4.9.0->gitly==1.1.4) (1.15.0)\n",
            "Requirement already satisfied: retrying>=1.3.3 in /usr/local/lib/python3.6/dist-packages (from plotly>=4.9.0->gitly==1.1.4) (1.3.3)\n",
            "Building wheels for collected packages: gitly\n",
            "  Building wheel for gitly (setup.py) ... \u001b[?25l\u001b[?25hdone\n",
            "  Created wheel for gitly: filename=gitly-1.1.4-cp36-none-any.whl size=4522 sha256=dddbeaf18fd3e3729ee9ad34f08e475eeba33b0c73f13e239378be689d45dd7b\n",
            "  Stored in directory: /root/.cache/pip/wheels/41/5c/0b/6cd3a688991c83f17c948adf0775f7907a0406d1119bd809af\n",
            "Successfully built gitly\n",
            "Installing collected packages: plotly, kaleido, gitly\n",
            "  Found existing installation: plotly 4.4.1\n",
            "    Uninstalling plotly-4.4.1:\n",
            "      Successfully uninstalled plotly-4.4.1\n",
            "Successfully installed gitly-1.1.4 kaleido-0.1.0 plotly-4.14.1\n"
          ],
          "name": "stdout"
        }
      ]
    },
    {
      "cell_type": "code",
      "metadata": {
        "id": "QttttnKlbyKL"
      },
      "source": [
        "import pandas as pd"
      ],
      "execution_count": 3,
      "outputs": []
    },
    {
      "cell_type": "code",
      "metadata": {
        "colab": {
          "base_uri": "https://localhost:8080/",
          "height": 226
        },
        "id": "Vp4Qp33wcR5V",
        "outputId": "8592802c-6874-4ede-ea69-68aa55465860"
      },
      "source": [
        "df_filmes = pd.read_csv('/content/drive/MyDrive/Colab Notebooks/Thiago/Datasets/filmes/movies.dat', sep='::', names=['id_filmes', 'nomes', 'categorias'])\n",
        "df_filmes.head(3)"
      ],
      "execution_count": 4,
      "outputs": [
        {
          "output_type": "stream",
          "text": [
            "/usr/local/lib/python3.6/dist-packages/ipykernel_launcher.py:1: ParserWarning:\n",
            "\n",
            "Falling back to the 'python' engine because the 'c' engine does not support regex separators (separators > 1 char and different from '\\s+' are interpreted as regex); you can avoid this warning by specifying engine='python'.\n",
            "\n"
          ],
          "name": "stderr"
        },
        {
          "output_type": "execute_result",
          "data": {
            "text/html": [
              "<div>\n",
              "<style scoped>\n",
              "    .dataframe tbody tr th:only-of-type {\n",
              "        vertical-align: middle;\n",
              "    }\n",
              "\n",
              "    .dataframe tbody tr th {\n",
              "        vertical-align: top;\n",
              "    }\n",
              "\n",
              "    .dataframe thead th {\n",
              "        text-align: right;\n",
              "    }\n",
              "</style>\n",
              "<table border=\"1\" class=\"dataframe\">\n",
              "  <thead>\n",
              "    <tr style=\"text-align: right;\">\n",
              "      <th></th>\n",
              "      <th>id_filmes</th>\n",
              "      <th>nomes</th>\n",
              "      <th>categorias</th>\n",
              "    </tr>\n",
              "  </thead>\n",
              "  <tbody>\n",
              "    <tr>\n",
              "      <th>0</th>\n",
              "      <td>1</td>\n",
              "      <td>Toy Story (1995)</td>\n",
              "      <td>Adventure|Animation|Children|Comedy|Fantasy</td>\n",
              "    </tr>\n",
              "    <tr>\n",
              "      <th>1</th>\n",
              "      <td>2</td>\n",
              "      <td>Jumanji (1995)</td>\n",
              "      <td>Adventure|Children|Fantasy</td>\n",
              "    </tr>\n",
              "    <tr>\n",
              "      <th>2</th>\n",
              "      <td>3</td>\n",
              "      <td>Grumpier Old Men (1995)</td>\n",
              "      <td>Comedy|Romance</td>\n",
              "    </tr>\n",
              "  </tbody>\n",
              "</table>\n",
              "</div>"
            ],
            "text/plain": [
              "   id_filmes  ...                                   categorias\n",
              "0          1  ...  Adventure|Animation|Children|Comedy|Fantasy\n",
              "1          2  ...                   Adventure|Children|Fantasy\n",
              "2          3  ...                               Comedy|Romance\n",
              "\n",
              "[3 rows x 3 columns]"
            ]
          },
          "metadata": {
            "tags": []
          },
          "execution_count": 4
        }
      ]
    },
    {
      "cell_type": "code",
      "metadata": {
        "colab": {
          "base_uri": "https://localhost:8080/",
          "height": 226
        },
        "id": "IHW7RZl7fIXx",
        "outputId": "c27bcd5a-93df-491c-918d-f95d488b696d"
      },
      "source": [
        "df_rate = pd.read_csv('/content/drive/MyDrive/Colab Notebooks/Thiago/Datasets/filmes/ratings_menor.dat', sep='::', names=['id_usuario', 'id_filmes', 'nota', 'timestamp'])\n",
        "df_rate.head(3)"
      ],
      "execution_count": 5,
      "outputs": [
        {
          "output_type": "stream",
          "text": [
            "/usr/local/lib/python3.6/dist-packages/ipykernel_launcher.py:1: ParserWarning:\n",
            "\n",
            "Falling back to the 'python' engine because the 'c' engine does not support regex separators (separators > 1 char and different from '\\s+' are interpreted as regex); you can avoid this warning by specifying engine='python'.\n",
            "\n"
          ],
          "name": "stderr"
        },
        {
          "output_type": "execute_result",
          "data": {
            "text/html": [
              "<div>\n",
              "<style scoped>\n",
              "    .dataframe tbody tr th:only-of-type {\n",
              "        vertical-align: middle;\n",
              "    }\n",
              "\n",
              "    .dataframe tbody tr th {\n",
              "        vertical-align: top;\n",
              "    }\n",
              "\n",
              "    .dataframe thead th {\n",
              "        text-align: right;\n",
              "    }\n",
              "</style>\n",
              "<table border=\"1\" class=\"dataframe\">\n",
              "  <thead>\n",
              "    <tr style=\"text-align: right;\">\n",
              "      <th></th>\n",
              "      <th>id_usuario</th>\n",
              "      <th>id_filmes</th>\n",
              "      <th>nota</th>\n",
              "      <th>timestamp</th>\n",
              "    </tr>\n",
              "  </thead>\n",
              "  <tbody>\n",
              "    <tr>\n",
              "      <th>0</th>\n",
              "      <td>1</td>\n",
              "      <td>122</td>\n",
              "      <td>5.0</td>\n",
              "      <td>838985046</td>\n",
              "    </tr>\n",
              "    <tr>\n",
              "      <th>1</th>\n",
              "      <td>1</td>\n",
              "      <td>185</td>\n",
              "      <td>5.0</td>\n",
              "      <td>838983525</td>\n",
              "    </tr>\n",
              "    <tr>\n",
              "      <th>2</th>\n",
              "      <td>1</td>\n",
              "      <td>231</td>\n",
              "      <td>5.0</td>\n",
              "      <td>838983392</td>\n",
              "    </tr>\n",
              "  </tbody>\n",
              "</table>\n",
              "</div>"
            ],
            "text/plain": [
              "   id_usuario  id_filmes  nota  timestamp\n",
              "0           1        122   5.0  838985046\n",
              "1           1        185   5.0  838983525\n",
              "2           1        231   5.0  838983392"
            ]
          },
          "metadata": {
            "tags": []
          },
          "execution_count": 5
        }
      ]
    },
    {
      "cell_type": "code",
      "metadata": {
        "colab": {
          "base_uri": "https://localhost:8080/"
        },
        "id": "PNEb-G_XkKZF",
        "outputId": "6172ff65-f20a-4396-c36f-75f278c7e906"
      },
      "source": [
        "df_rate.id_usuario.nunique()"
      ],
      "execution_count": 6,
      "outputs": [
        {
          "output_type": "execute_result",
          "data": {
            "text/plain": [
              "22230"
            ]
          },
          "metadata": {
            "tags": []
          },
          "execution_count": 6
        }
      ]
    },
    {
      "cell_type": "markdown",
      "metadata": {
        "id": "6P16wJMXf7I_"
      },
      "source": [
        "# Estruturas"
      ]
    },
    {
      "cell_type": "code",
      "metadata": {
        "colab": {
          "base_uri": "https://localhost:8080/"
        },
        "id": "d_OzsmYUfsvu",
        "outputId": "43080802-d09c-49c1-9202-bcb90fb208c7"
      },
      "source": [
        "df_filmes.shape"
      ],
      "execution_count": 7,
      "outputs": [
        {
          "output_type": "execute_result",
          "data": {
            "text/plain": [
              "(10681, 3)"
            ]
          },
          "metadata": {
            "tags": []
          },
          "execution_count": 7
        }
      ]
    },
    {
      "cell_type": "code",
      "metadata": {
        "colab": {
          "base_uri": "https://localhost:8080/"
        },
        "id": "2gM_ZGelf_T_",
        "outputId": "08b9be8c-8e62-4eb9-81a1-9f1bf9d8dc29"
      },
      "source": [
        "df_rate.shape"
      ],
      "execution_count": 8,
      "outputs": [
        {
          "output_type": "execute_result",
          "data": {
            "text/plain": [
              "(3153681, 4)"
            ]
          },
          "metadata": {
            "tags": []
          },
          "execution_count": 8
        }
      ]
    },
    {
      "cell_type": "code",
      "metadata": {
        "colab": {
          "base_uri": "https://localhost:8080/"
        },
        "id": "OPHxJgOZgCg5",
        "outputId": "b2e6b3e7-4a7e-477a-e2f9-d4b0f128a6e2"
      },
      "source": [
        "df_rate.id_filmes.value_counts()"
      ],
      "execution_count": 9,
      "outputs": [
        {
          "output_type": "execute_result",
          "data": {
            "text/plain": [
              "593      10858\n",
              "296      10856\n",
              "356      10683\n",
              "480      10063\n",
              "318       9717\n",
              "         ...  \n",
              "6199         1\n",
              "40752        1\n",
              "60471        1\n",
              "8120         1\n",
              "34473        1\n",
              "Name: id_filmes, Length: 10325, dtype: int64"
            ]
          },
          "metadata": {
            "tags": []
          },
          "execution_count": 9
        }
      ]
    },
    {
      "cell_type": "code",
      "metadata": {
        "colab": {
          "base_uri": "https://localhost:8080/"
        },
        "id": "pUqFoSCXgaOj",
        "outputId": "738965a5-2c18-4299-fe2f-14665d780764"
      },
      "source": [
        "df_rate.id_usuario.value_counts().rename('qtd_avaliadas')"
      ],
      "execution_count": 10,
      "outputs": [
        {
          "output_type": "execute_result",
          "data": {
            "text/plain": [
              "14463    5169\n",
              "19635    4165\n",
              "3817     4165\n",
              "6757     3414\n",
              "19379    3202\n",
              "         ... \n",
              "6688       20\n",
              "10016      20\n",
              "13212      20\n",
              "14765      20\n",
              "5887       20\n",
              "Name: qtd_avaliadas, Length: 22230, dtype: int64"
            ]
          },
          "metadata": {
            "tags": []
          },
          "execution_count": 10
        }
      ]
    },
    {
      "cell_type": "markdown",
      "metadata": {
        "id": "wBHIFSFEgxPx"
      },
      "source": [
        "# Sumarização"
      ]
    },
    {
      "cell_type": "code",
      "metadata": {
        "colab": {
          "base_uri": "https://localhost:8080/",
          "height": 692
        },
        "id": "sDilo7Wggn3C",
        "outputId": "6f15e506-ca8d-4e3b-feb0-edd33a306d7c"
      },
      "source": [
        "import plotly.express as px\n",
        "\n",
        "df = df_rate.id_usuario.value_counts().rename('qtd_avaliadas')\n",
        "fig = px.histogram(df, x='qtd_avaliadas', marginal=\"box\")\n",
        "gitly.show( fig, scale=1.5 )"
      ],
      "execution_count": 11,
      "outputs": [
        {
          "output_type": "execute_result",
          "data": {
            "image/png": "[encoded data removed]",
            "text/plain": [
              "<IPython.core.display.Image object>"
            ]
          },
          "metadata": {
            "tags": []
          },
          "execution_count": 11
        }
      ]
    },
    {
      "cell_type": "markdown",
      "metadata": {
        "id": "u00pQ7RSoiTv"
      },
      "source": [
        "# S R - Inicio"
      ]
    },
    {
      "cell_type": "code",
      "metadata": {
        "colab": {
          "base_uri": "https://localhost:8080/",
          "height": 194
        },
        "id": "8Wygn7toh9Ls",
        "outputId": "39128851-17ce-4425-bf8c-911c3ef5c75a"
      },
      "source": [
        "df_rate.head()"
      ],
      "execution_count": 12,
      "outputs": [
        {
          "output_type": "execute_result",
          "data": {
            "text/html": [
              "<div>\n",
              "<style scoped>\n",
              "    .dataframe tbody tr th:only-of-type {\n",
              "        vertical-align: middle;\n",
              "    }\n",
              "\n",
              "    .dataframe tbody tr th {\n",
              "        vertical-align: top;\n",
              "    }\n",
              "\n",
              "    .dataframe thead th {\n",
              "        text-align: right;\n",
              "    }\n",
              "</style>\n",
              "<table border=\"1\" class=\"dataframe\">\n",
              "  <thead>\n",
              "    <tr style=\"text-align: right;\">\n",
              "      <th></th>\n",
              "      <th>id_usuario</th>\n",
              "      <th>id_filmes</th>\n",
              "      <th>nota</th>\n",
              "      <th>timestamp</th>\n",
              "    </tr>\n",
              "  </thead>\n",
              "  <tbody>\n",
              "    <tr>\n",
              "      <th>0</th>\n",
              "      <td>1</td>\n",
              "      <td>122</td>\n",
              "      <td>5.0</td>\n",
              "      <td>838985046</td>\n",
              "    </tr>\n",
              "    <tr>\n",
              "      <th>1</th>\n",
              "      <td>1</td>\n",
              "      <td>185</td>\n",
              "      <td>5.0</td>\n",
              "      <td>838983525</td>\n",
              "    </tr>\n",
              "    <tr>\n",
              "      <th>2</th>\n",
              "      <td>1</td>\n",
              "      <td>231</td>\n",
              "      <td>5.0</td>\n",
              "      <td>838983392</td>\n",
              "    </tr>\n",
              "    <tr>\n",
              "      <th>3</th>\n",
              "      <td>1</td>\n",
              "      <td>292</td>\n",
              "      <td>5.0</td>\n",
              "      <td>838983421</td>\n",
              "    </tr>\n",
              "    <tr>\n",
              "      <th>4</th>\n",
              "      <td>1</td>\n",
              "      <td>316</td>\n",
              "      <td>5.0</td>\n",
              "      <td>838983392</td>\n",
              "    </tr>\n",
              "  </tbody>\n",
              "</table>\n",
              "</div>"
            ],
            "text/plain": [
              "   id_usuario  id_filmes  nota  timestamp\n",
              "0           1        122   5.0  838985046\n",
              "1           1        185   5.0  838983525\n",
              "2           1        231   5.0  838983392\n",
              "3           1        292   5.0  838983421\n",
              "4           1        316   5.0  838983392"
            ]
          },
          "metadata": {
            "tags": []
          },
          "execution_count": 12
        }
      ]
    },
    {
      "cell_type": "code",
      "metadata": {
        "colab": {
          "base_uri": "https://localhost:8080/"
        },
        "id": "6qs0oZDEopgV",
        "outputId": "d00d3bf3-34c2-428d-8f28-d9e6d8947f78"
      },
      "source": [
        "# info 1 - somatoria da nota: Boa? (Não)\n",
        "df_rate.groupby('id_usuario').sum()['nota'].head(8)"
      ],
      "execution_count": 13,
      "outputs": [
        {
          "output_type": "execute_result",
          "data": {
            "text/plain": [
              "id_usuario\n",
              "1     110.0\n",
              "2      64.0\n",
              "3     130.0\n",
              "4     153.0\n",
              "5     335.0\n",
              "6     165.0\n",
              "7     428.0\n",
              "8    2718.5\n",
              "Name: nota, dtype: float64"
            ]
          },
          "metadata": {
            "tags": []
          },
          "execution_count": 13
        }
      ]
    },
    {
      "cell_type": "code",
      "metadata": {
        "colab": {
          "base_uri": "https://localhost:8080/"
        },
        "id": "NseMJZIioxRq",
        "outputId": "b930b0f3-694d-47c3-aad6-59afbd6a482e"
      },
      "source": [
        "# info 2 - média da nota: Boa? (Sim)\n",
        "df_rate.groupby('id_usuario').mean()['nota'].head(8)"
      ],
      "execution_count": 14,
      "outputs": [
        {
          "output_type": "execute_result",
          "data": {
            "text/plain": [
              "id_usuario\n",
              "1    5.000000\n",
              "2    3.200000\n",
              "3    3.939394\n",
              "4    4.026316\n",
              "5    3.850575\n",
              "6    3.928571\n",
              "7    3.926606\n",
              "8    3.398125\n",
              "Name: nota, dtype: float64"
            ]
          },
          "metadata": {
            "tags": []
          },
          "execution_count": 14
        }
      ]
    },
    {
      "cell_type": "code",
      "metadata": {
        "colab": {
          "base_uri": "https://localhost:8080/",
          "height": 194
        },
        "id": "Mjh4VepMI_ZY",
        "outputId": "da78196d-e6b5-476d-bc36-74ac53d8ed6f"
      },
      "source": [
        "df_filmes.head()"
      ],
      "execution_count": 15,
      "outputs": [
        {
          "output_type": "execute_result",
          "data": {
            "text/html": [
              "<div>\n",
              "<style scoped>\n",
              "    .dataframe tbody tr th:only-of-type {\n",
              "        vertical-align: middle;\n",
              "    }\n",
              "\n",
              "    .dataframe tbody tr th {\n",
              "        vertical-align: top;\n",
              "    }\n",
              "\n",
              "    .dataframe thead th {\n",
              "        text-align: right;\n",
              "    }\n",
              "</style>\n",
              "<table border=\"1\" class=\"dataframe\">\n",
              "  <thead>\n",
              "    <tr style=\"text-align: right;\">\n",
              "      <th></th>\n",
              "      <th>id_filmes</th>\n",
              "      <th>nomes</th>\n",
              "      <th>categorias</th>\n",
              "    </tr>\n",
              "  </thead>\n",
              "  <tbody>\n",
              "    <tr>\n",
              "      <th>0</th>\n",
              "      <td>1</td>\n",
              "      <td>Toy Story (1995)</td>\n",
              "      <td>Adventure|Animation|Children|Comedy|Fantasy</td>\n",
              "    </tr>\n",
              "    <tr>\n",
              "      <th>1</th>\n",
              "      <td>2</td>\n",
              "      <td>Jumanji (1995)</td>\n",
              "      <td>Adventure|Children|Fantasy</td>\n",
              "    </tr>\n",
              "    <tr>\n",
              "      <th>2</th>\n",
              "      <td>3</td>\n",
              "      <td>Grumpier Old Men (1995)</td>\n",
              "      <td>Comedy|Romance</td>\n",
              "    </tr>\n",
              "    <tr>\n",
              "      <th>3</th>\n",
              "      <td>4</td>\n",
              "      <td>Waiting to Exhale (1995)</td>\n",
              "      <td>Comedy|Drama|Romance</td>\n",
              "    </tr>\n",
              "    <tr>\n",
              "      <th>4</th>\n",
              "      <td>5</td>\n",
              "      <td>Father of the Bride Part II (1995)</td>\n",
              "      <td>Comedy</td>\n",
              "    </tr>\n",
              "  </tbody>\n",
              "</table>\n",
              "</div>"
            ],
            "text/plain": [
              "   id_filmes  ...                                   categorias\n",
              "0          1  ...  Adventure|Animation|Children|Comedy|Fantasy\n",
              "1          2  ...                   Adventure|Children|Fantasy\n",
              "2          3  ...                               Comedy|Romance\n",
              "3          4  ...                         Comedy|Drama|Romance\n",
              "4          5  ...                                       Comedy\n",
              "\n",
              "[5 rows x 3 columns]"
            ]
          },
          "metadata": {
            "tags": []
          },
          "execution_count": 15
        }
      ]
    },
    {
      "cell_type": "code",
      "metadata": {
        "colab": {
          "base_uri": "https://localhost:8080/",
          "height": 135
        },
        "id": "TjdI7ZOKJHHr",
        "outputId": "e6fa3704-d612-4efa-e08a-b67a81600e6d"
      },
      "source": [
        "df_cat_exp = df_filmes.categorias.str.split('|', expand=True)\n",
        "df_cat_exp.head(3)"
      ],
      "execution_count": 16,
      "outputs": [
        {
          "output_type": "execute_result",
          "data": {
            "text/html": [
              "<div>\n",
              "<style scoped>\n",
              "    .dataframe tbody tr th:only-of-type {\n",
              "        vertical-align: middle;\n",
              "    }\n",
              "\n",
              "    .dataframe tbody tr th {\n",
              "        vertical-align: top;\n",
              "    }\n",
              "\n",
              "    .dataframe thead th {\n",
              "        text-align: right;\n",
              "    }\n",
              "</style>\n",
              "<table border=\"1\" class=\"dataframe\">\n",
              "  <thead>\n",
              "    <tr style=\"text-align: right;\">\n",
              "      <th></th>\n",
              "      <th>0</th>\n",
              "      <th>1</th>\n",
              "      <th>2</th>\n",
              "      <th>3</th>\n",
              "      <th>4</th>\n",
              "      <th>5</th>\n",
              "      <th>6</th>\n",
              "      <th>7</th>\n",
              "    </tr>\n",
              "  </thead>\n",
              "  <tbody>\n",
              "    <tr>\n",
              "      <th>0</th>\n",
              "      <td>Adventure</td>\n",
              "      <td>Animation</td>\n",
              "      <td>Children</td>\n",
              "      <td>Comedy</td>\n",
              "      <td>Fantasy</td>\n",
              "      <td>None</td>\n",
              "      <td>None</td>\n",
              "      <td>None</td>\n",
              "    </tr>\n",
              "    <tr>\n",
              "      <th>1</th>\n",
              "      <td>Adventure</td>\n",
              "      <td>Children</td>\n",
              "      <td>Fantasy</td>\n",
              "      <td>None</td>\n",
              "      <td>None</td>\n",
              "      <td>None</td>\n",
              "      <td>None</td>\n",
              "      <td>None</td>\n",
              "    </tr>\n",
              "    <tr>\n",
              "      <th>2</th>\n",
              "      <td>Comedy</td>\n",
              "      <td>Romance</td>\n",
              "      <td>None</td>\n",
              "      <td>None</td>\n",
              "      <td>None</td>\n",
              "      <td>None</td>\n",
              "      <td>None</td>\n",
              "      <td>None</td>\n",
              "    </tr>\n",
              "  </tbody>\n",
              "</table>\n",
              "</div>"
            ],
            "text/plain": [
              "           0          1         2       3        4     5     6     7\n",
              "0  Adventure  Animation  Children  Comedy  Fantasy  None  None  None\n",
              "1  Adventure   Children   Fantasy    None     None  None  None  None\n",
              "2     Comedy    Romance      None    None     None  None  None  None"
            ]
          },
          "metadata": {
            "tags": []
          },
          "execution_count": 16
        }
      ]
    },
    {
      "cell_type": "code",
      "metadata": {
        "colab": {
          "base_uri": "https://localhost:8080/"
        },
        "id": "YkfAtlT0JHFo",
        "outputId": "5bba787e-dca1-4db1-87cb-5348fe481eb0"
      },
      "source": [
        "lista_genero = list(df_cat_exp[0].unique())\n",
        "lista_genero.remove('IMAX')\n",
        "lista_genero.remove('(no genres listed)')\n",
        "print(lista_genero)"
      ],
      "execution_count": 17,
      "outputs": [
        {
          "output_type": "stream",
          "text": [
            "['Adventure', 'Comedy', 'Action', 'Animation', 'Drama', 'Crime', 'Sci-Fi', 'Children', 'Documentary', 'Mystery', 'Thriller', 'Horror', 'Fantasy', 'Western', 'Film-Noir', 'Romance', 'War', 'Musical']\n"
          ],
          "name": "stdout"
        }
      ]
    },
    {
      "cell_type": "code",
      "metadata": {
        "colab": {
          "base_uri": "https://localhost:8080/"
        },
        "id": "Plcu_KPRJHCg",
        "outputId": "89215456-68f9-41e8-8796-3fb645cadffd"
      },
      "source": [
        "voc_dict = {}\n",
        "\n",
        "i=0\n",
        "for gen in lista_genero:\n",
        "    voc_dict[ gen.lower() ] = i\n",
        "    i = i + 1\n",
        "    \n",
        "voc_dict"
      ],
      "execution_count": 18,
      "outputs": [
        {
          "output_type": "execute_result",
          "data": {
            "text/plain": [
              "{'action': 2,\n",
              " 'adventure': 0,\n",
              " 'animation': 3,\n",
              " 'children': 7,\n",
              " 'comedy': 1,\n",
              " 'crime': 5,\n",
              " 'documentary': 8,\n",
              " 'drama': 4,\n",
              " 'fantasy': 12,\n",
              " 'film-noir': 14,\n",
              " 'horror': 11,\n",
              " 'musical': 17,\n",
              " 'mystery': 9,\n",
              " 'romance': 15,\n",
              " 'sci-fi': 6,\n",
              " 'thriller': 10,\n",
              " 'war': 16,\n",
              " 'western': 13}"
            ]
          },
          "metadata": {
            "tags": []
          },
          "execution_count": 18
        }
      ]
    },
    {
      "cell_type": "markdown",
      "metadata": {
        "id": "-d2ISqC65u7F"
      },
      "source": [
        "Usar o CountVectorizer para vetorizar o campo categoria do dataframe de filmes\n",
        "\n",
        "Documentação: https://scikit-learn.org/stable/modules/generated/sklearn.feature_extraction.text.CountVectorizer.html\n",
        "\n",
        "Tutorial: https://kavita-ganesan.com/how-to-use-countvectorizer/#Example-of-How-CountVectorizer-Works"
      ]
    },
    {
      "cell_type": "code",
      "metadata": {
        "colab": {
          "base_uri": "https://localhost:8080/"
        },
        "id": "AYXd-LldJg5d",
        "outputId": "0e02c3ab-f5d1-4f39-8716-ea7ffb54cacd"
      },
      "source": [
        "from sklearn.feature_extraction.text import CountVectorizer\n",
        "\n",
        "vetorizador = CountVectorizer(  analyzer='word', vocabulary= voc_dict, ngram_range=(1,2), token_pattern = '[a-zA-Z0-9$&+,:;=?@#<>.^*()%!-]+' )\n",
        "# Treinando o vetorizador\n",
        "vetorizador.fit( lista_genero )"
      ],
      "execution_count": 19,
      "outputs": [
        {
          "output_type": "execute_result",
          "data": {
            "text/plain": [
              "CountVectorizer(analyzer='word', binary=False, decode_error='strict',\n",
              "                dtype=<class 'numpy.int64'>, encoding='utf-8', input='content',\n",
              "                lowercase=True, max_df=1.0, max_features=None, min_df=1,\n",
              "                ngram_range=(1, 2), preprocessor=None, stop_words=None,\n",
              "                strip_accents=None,\n",
              "                token_pattern='[a-zA-Z0-9$&+,:;=?@#<>.^*()%!-]+',\n",
              "                tokenizer=None,\n",
              "                vocabulary={'action': 2, 'adventure': 0, 'animation': 3,\n",
              "                            'children': 7, 'comedy': 1, 'crime': 5,\n",
              "                            'documentary': 8, 'drama': 4, 'fantasy': 12,\n",
              "                            'film-noir': 14, 'horror': 11, 'musical': 17,\n",
              "                            'mystery': 9, 'romance': 15, 'sci-fi': 6,\n",
              "                            'thriller': 10, 'war': 16, 'western': 13})"
            ]
          },
          "metadata": {
            "tags": []
          },
          "execution_count": 19
        }
      ]
    },
    {
      "cell_type": "code",
      "metadata": {
        "colab": {
          "base_uri": "https://localhost:8080/"
        },
        "id": "0GGVd6QhJYuC",
        "outputId": "8c88828a-08f1-43b0-8d85-1c3a2c7e8be0"
      },
      "source": [
        "# Testando o vetorizador\n",
        "matriz_cat_exemplo = vetorizador.transform(['Action|Crime|Thriller'])\n",
        "matriz_cat_exemplo.todense()"
      ],
      "execution_count": 20,
      "outputs": [
        {
          "output_type": "execute_result",
          "data": {
            "text/plain": [
              "matrix([[0, 0, 1, 0, 0, 1, 0, 0, 0, 0, 1, 0, 0, 0, 0, 0, 0, 0]])"
            ]
          },
          "metadata": {
            "tags": []
          },
          "execution_count": 20
        }
      ]
    },
    {
      "cell_type": "code",
      "metadata": {
        "colab": {
          "base_uri": "https://localhost:8080/"
        },
        "id": "-rJ5N0xnJYuD",
        "outputId": "a98af9b6-70fa-4b61-a100-6502515012e9"
      },
      "source": [
        "matriz_cat = vetorizador.transform( df_filmes.categorias )\n",
        "matriz_cat.todense()[:5,:]"
      ],
      "execution_count": 21,
      "outputs": [
        {
          "output_type": "execute_result",
          "data": {
            "text/plain": [
              "matrix([[1, 1, 0, 1, 0, 0, 0, 1, 0, 0, 0, 0, 1, 0, 0, 0, 0, 0],\n",
              "        [1, 0, 0, 0, 0, 0, 0, 1, 0, 0, 0, 0, 1, 0, 0, 0, 0, 0],\n",
              "        [0, 1, 0, 0, 0, 0, 0, 0, 0, 0, 0, 0, 0, 0, 0, 1, 0, 0],\n",
              "        [0, 1, 0, 0, 1, 0, 0, 0, 0, 0, 0, 0, 0, 0, 0, 1, 0, 0],\n",
              "        [0, 1, 0, 0, 0, 0, 0, 0, 0, 0, 0, 0, 0, 0, 0, 0, 0, 0]])"
            ]
          },
          "metadata": {
            "tags": []
          },
          "execution_count": 21
        }
      ]
    },
    {
      "cell_type": "code",
      "metadata": {
        "colab": {
          "base_uri": "https://localhost:8080/",
          "height": 194
        },
        "id": "bn5gpP22KB6S",
        "outputId": "0a9d4968-e786-46af-c9e5-b80e0a77cc66"
      },
      "source": [
        "df_filmes_cat_exp = pd.DataFrame(data=matriz_cat.todense(), columns=vetorizador.get_feature_names() )\n",
        "df_filmes_cat_exp.head()"
      ],
      "execution_count": 22,
      "outputs": [
        {
          "output_type": "execute_result",
          "data": {
            "text/html": [
              "<div>\n",
              "<style scoped>\n",
              "    .dataframe tbody tr th:only-of-type {\n",
              "        vertical-align: middle;\n",
              "    }\n",
              "\n",
              "    .dataframe tbody tr th {\n",
              "        vertical-align: top;\n",
              "    }\n",
              "\n",
              "    .dataframe thead th {\n",
              "        text-align: right;\n",
              "    }\n",
              "</style>\n",
              "<table border=\"1\" class=\"dataframe\">\n",
              "  <thead>\n",
              "    <tr style=\"text-align: right;\">\n",
              "      <th></th>\n",
              "      <th>adventure</th>\n",
              "      <th>comedy</th>\n",
              "      <th>action</th>\n",
              "      <th>animation</th>\n",
              "      <th>drama</th>\n",
              "      <th>crime</th>\n",
              "      <th>sci-fi</th>\n",
              "      <th>children</th>\n",
              "      <th>documentary</th>\n",
              "      <th>mystery</th>\n",
              "      <th>thriller</th>\n",
              "      <th>horror</th>\n",
              "      <th>fantasy</th>\n",
              "      <th>western</th>\n",
              "      <th>film-noir</th>\n",
              "      <th>romance</th>\n",
              "      <th>war</th>\n",
              "      <th>musical</th>\n",
              "    </tr>\n",
              "  </thead>\n",
              "  <tbody>\n",
              "    <tr>\n",
              "      <th>0</th>\n",
              "      <td>1</td>\n",
              "      <td>1</td>\n",
              "      <td>0</td>\n",
              "      <td>1</td>\n",
              "      <td>0</td>\n",
              "      <td>0</td>\n",
              "      <td>0</td>\n",
              "      <td>1</td>\n",
              "      <td>0</td>\n",
              "      <td>0</td>\n",
              "      <td>0</td>\n",
              "      <td>0</td>\n",
              "      <td>1</td>\n",
              "      <td>0</td>\n",
              "      <td>0</td>\n",
              "      <td>0</td>\n",
              "      <td>0</td>\n",
              "      <td>0</td>\n",
              "    </tr>\n",
              "    <tr>\n",
              "      <th>1</th>\n",
              "      <td>1</td>\n",
              "      <td>0</td>\n",
              "      <td>0</td>\n",
              "      <td>0</td>\n",
              "      <td>0</td>\n",
              "      <td>0</td>\n",
              "      <td>0</td>\n",
              "      <td>1</td>\n",
              "      <td>0</td>\n",
              "      <td>0</td>\n",
              "      <td>0</td>\n",
              "      <td>0</td>\n",
              "      <td>1</td>\n",
              "      <td>0</td>\n",
              "      <td>0</td>\n",
              "      <td>0</td>\n",
              "      <td>0</td>\n",
              "      <td>0</td>\n",
              "    </tr>\n",
              "    <tr>\n",
              "      <th>2</th>\n",
              "      <td>0</td>\n",
              "      <td>1</td>\n",
              "      <td>0</td>\n",
              "      <td>0</td>\n",
              "      <td>0</td>\n",
              "      <td>0</td>\n",
              "      <td>0</td>\n",
              "      <td>0</td>\n",
              "      <td>0</td>\n",
              "      <td>0</td>\n",
              "      <td>0</td>\n",
              "      <td>0</td>\n",
              "      <td>0</td>\n",
              "      <td>0</td>\n",
              "      <td>0</td>\n",
              "      <td>1</td>\n",
              "      <td>0</td>\n",
              "      <td>0</td>\n",
              "    </tr>\n",
              "    <tr>\n",
              "      <th>3</th>\n",
              "      <td>0</td>\n",
              "      <td>1</td>\n",
              "      <td>0</td>\n",
              "      <td>0</td>\n",
              "      <td>1</td>\n",
              "      <td>0</td>\n",
              "      <td>0</td>\n",
              "      <td>0</td>\n",
              "      <td>0</td>\n",
              "      <td>0</td>\n",
              "      <td>0</td>\n",
              "      <td>0</td>\n",
              "      <td>0</td>\n",
              "      <td>0</td>\n",
              "      <td>0</td>\n",
              "      <td>1</td>\n",
              "      <td>0</td>\n",
              "      <td>0</td>\n",
              "    </tr>\n",
              "    <tr>\n",
              "      <th>4</th>\n",
              "      <td>0</td>\n",
              "      <td>1</td>\n",
              "      <td>0</td>\n",
              "      <td>0</td>\n",
              "      <td>0</td>\n",
              "      <td>0</td>\n",
              "      <td>0</td>\n",
              "      <td>0</td>\n",
              "      <td>0</td>\n",
              "      <td>0</td>\n",
              "      <td>0</td>\n",
              "      <td>0</td>\n",
              "      <td>0</td>\n",
              "      <td>0</td>\n",
              "      <td>0</td>\n",
              "      <td>0</td>\n",
              "      <td>0</td>\n",
              "      <td>0</td>\n",
              "    </tr>\n",
              "  </tbody>\n",
              "</table>\n",
              "</div>"
            ],
            "text/plain": [
              "   adventure  comedy  action  animation  ...  film-noir  romance  war  musical\n",
              "0          1       1       0          1  ...          0        0    0        0\n",
              "1          1       0       0          0  ...          0        0    0        0\n",
              "2          0       1       0          0  ...          0        1    0        0\n",
              "3          0       1       0          0  ...          0        1    0        0\n",
              "4          0       1       0          0  ...          0        0    0        0\n",
              "\n",
              "[5 rows x 18 columns]"
            ]
          },
          "metadata": {
            "tags": []
          },
          "execution_count": 22
        }
      ]
    },
    {
      "cell_type": "code",
      "metadata": {
        "colab": {
          "base_uri": "https://localhost:8080/",
          "height": 383
        },
        "id": "L9GUSN2jJ-9L",
        "outputId": "c275c95f-f141-4fe2-da8e-9e3a9c7a5070"
      },
      "source": [
        "df_filmes_cat = pd.merge( df_filmes, df_filmes_cat_exp, how='left', left_index=True, right_index=True )\n",
        "df_filmes_cat.head()"
      ],
      "execution_count": 23,
      "outputs": [
        {
          "output_type": "execute_result",
          "data": {
            "text/html": [
              "<div>\n",
              "<style scoped>\n",
              "    .dataframe tbody tr th:only-of-type {\n",
              "        vertical-align: middle;\n",
              "    }\n",
              "\n",
              "    .dataframe tbody tr th {\n",
              "        vertical-align: top;\n",
              "    }\n",
              "\n",
              "    .dataframe thead th {\n",
              "        text-align: right;\n",
              "    }\n",
              "</style>\n",
              "<table border=\"1\" class=\"dataframe\">\n",
              "  <thead>\n",
              "    <tr style=\"text-align: right;\">\n",
              "      <th></th>\n",
              "      <th>id_filmes</th>\n",
              "      <th>nomes</th>\n",
              "      <th>categorias</th>\n",
              "      <th>adventure</th>\n",
              "      <th>comedy</th>\n",
              "      <th>action</th>\n",
              "      <th>animation</th>\n",
              "      <th>drama</th>\n",
              "      <th>crime</th>\n",
              "      <th>sci-fi</th>\n",
              "      <th>children</th>\n",
              "      <th>documentary</th>\n",
              "      <th>mystery</th>\n",
              "      <th>thriller</th>\n",
              "      <th>horror</th>\n",
              "      <th>fantasy</th>\n",
              "      <th>western</th>\n",
              "      <th>film-noir</th>\n",
              "      <th>romance</th>\n",
              "      <th>war</th>\n",
              "      <th>musical</th>\n",
              "    </tr>\n",
              "  </thead>\n",
              "  <tbody>\n",
              "    <tr>\n",
              "      <th>0</th>\n",
              "      <td>1</td>\n",
              "      <td>Toy Story (1995)</td>\n",
              "      <td>Adventure|Animation|Children|Comedy|Fantasy</td>\n",
              "      <td>1</td>\n",
              "      <td>1</td>\n",
              "      <td>0</td>\n",
              "      <td>1</td>\n",
              "      <td>0</td>\n",
              "      <td>0</td>\n",
              "      <td>0</td>\n",
              "      <td>1</td>\n",
              "      <td>0</td>\n",
              "      <td>0</td>\n",
              "      <td>0</td>\n",
              "      <td>0</td>\n",
              "      <td>1</td>\n",
              "      <td>0</td>\n",
              "      <td>0</td>\n",
              "      <td>0</td>\n",
              "      <td>0</td>\n",
              "      <td>0</td>\n",
              "    </tr>\n",
              "    <tr>\n",
              "      <th>1</th>\n",
              "      <td>2</td>\n",
              "      <td>Jumanji (1995)</td>\n",
              "      <td>Adventure|Children|Fantasy</td>\n",
              "      <td>1</td>\n",
              "      <td>0</td>\n",
              "      <td>0</td>\n",
              "      <td>0</td>\n",
              "      <td>0</td>\n",
              "      <td>0</td>\n",
              "      <td>0</td>\n",
              "      <td>1</td>\n",
              "      <td>0</td>\n",
              "      <td>0</td>\n",
              "      <td>0</td>\n",
              "      <td>0</td>\n",
              "      <td>1</td>\n",
              "      <td>0</td>\n",
              "      <td>0</td>\n",
              "      <td>0</td>\n",
              "      <td>0</td>\n",
              "      <td>0</td>\n",
              "    </tr>\n",
              "    <tr>\n",
              "      <th>2</th>\n",
              "      <td>3</td>\n",
              "      <td>Grumpier Old Men (1995)</td>\n",
              "      <td>Comedy|Romance</td>\n",
              "      <td>0</td>\n",
              "      <td>1</td>\n",
              "      <td>0</td>\n",
              "      <td>0</td>\n",
              "      <td>0</td>\n",
              "      <td>0</td>\n",
              "      <td>0</td>\n",
              "      <td>0</td>\n",
              "      <td>0</td>\n",
              "      <td>0</td>\n",
              "      <td>0</td>\n",
              "      <td>0</td>\n",
              "      <td>0</td>\n",
              "      <td>0</td>\n",
              "      <td>0</td>\n",
              "      <td>1</td>\n",
              "      <td>0</td>\n",
              "      <td>0</td>\n",
              "    </tr>\n",
              "    <tr>\n",
              "      <th>3</th>\n",
              "      <td>4</td>\n",
              "      <td>Waiting to Exhale (1995)</td>\n",
              "      <td>Comedy|Drama|Romance</td>\n",
              "      <td>0</td>\n",
              "      <td>1</td>\n",
              "      <td>0</td>\n",
              "      <td>0</td>\n",
              "      <td>1</td>\n",
              "      <td>0</td>\n",
              "      <td>0</td>\n",
              "      <td>0</td>\n",
              "      <td>0</td>\n",
              "      <td>0</td>\n",
              "      <td>0</td>\n",
              "      <td>0</td>\n",
              "      <td>0</td>\n",
              "      <td>0</td>\n",
              "      <td>0</td>\n",
              "      <td>1</td>\n",
              "      <td>0</td>\n",
              "      <td>0</td>\n",
              "    </tr>\n",
              "    <tr>\n",
              "      <th>4</th>\n",
              "      <td>5</td>\n",
              "      <td>Father of the Bride Part II (1995)</td>\n",
              "      <td>Comedy</td>\n",
              "      <td>0</td>\n",
              "      <td>1</td>\n",
              "      <td>0</td>\n",
              "      <td>0</td>\n",
              "      <td>0</td>\n",
              "      <td>0</td>\n",
              "      <td>0</td>\n",
              "      <td>0</td>\n",
              "      <td>0</td>\n",
              "      <td>0</td>\n",
              "      <td>0</td>\n",
              "      <td>0</td>\n",
              "      <td>0</td>\n",
              "      <td>0</td>\n",
              "      <td>0</td>\n",
              "      <td>0</td>\n",
              "      <td>0</td>\n",
              "      <td>0</td>\n",
              "    </tr>\n",
              "  </tbody>\n",
              "</table>\n",
              "</div>"
            ],
            "text/plain": [
              "   id_filmes                               nomes  ... war  musical\n",
              "0          1                    Toy Story (1995)  ...   0        0\n",
              "1          2                      Jumanji (1995)  ...   0        0\n",
              "2          3             Grumpier Old Men (1995)  ...   0        0\n",
              "3          4            Waiting to Exhale (1995)  ...   0        0\n",
              "4          5  Father of the Bride Part II (1995)  ...   0        0\n",
              "\n",
              "[5 rows x 21 columns]"
            ]
          },
          "metadata": {
            "tags": []
          },
          "execution_count": 23
        }
      ]
    },
    {
      "cell_type": "code",
      "metadata": {
        "colab": {
          "base_uri": "https://localhost:8080/",
          "height": 332
        },
        "id": "tKqzcWeTKhtc",
        "outputId": "d73e1f2d-6ea3-4c26-fbd5-61d3f3d71099"
      },
      "source": [
        "df_cat_exp = pd.merge( df_rate, df_filmes_cat, how='left', on='id_filmes' )\n",
        "df_cat_exp.head(5)"
      ],
      "execution_count": 24,
      "outputs": [
        {
          "output_type": "execute_result",
          "data": {
            "text/html": [
              "<div>\n",
              "<style scoped>\n",
              "    .dataframe tbody tr th:only-of-type {\n",
              "        vertical-align: middle;\n",
              "    }\n",
              "\n",
              "    .dataframe tbody tr th {\n",
              "        vertical-align: top;\n",
              "    }\n",
              "\n",
              "    .dataframe thead th {\n",
              "        text-align: right;\n",
              "    }\n",
              "</style>\n",
              "<table border=\"1\" class=\"dataframe\">\n",
              "  <thead>\n",
              "    <tr style=\"text-align: right;\">\n",
              "      <th></th>\n",
              "      <th>id_usuario</th>\n",
              "      <th>id_filmes</th>\n",
              "      <th>nota</th>\n",
              "      <th>timestamp</th>\n",
              "      <th>nomes</th>\n",
              "      <th>categorias</th>\n",
              "      <th>adventure</th>\n",
              "      <th>comedy</th>\n",
              "      <th>action</th>\n",
              "      <th>animation</th>\n",
              "      <th>drama</th>\n",
              "      <th>crime</th>\n",
              "      <th>sci-fi</th>\n",
              "      <th>children</th>\n",
              "      <th>documentary</th>\n",
              "      <th>mystery</th>\n",
              "      <th>thriller</th>\n",
              "      <th>horror</th>\n",
              "      <th>fantasy</th>\n",
              "      <th>western</th>\n",
              "      <th>film-noir</th>\n",
              "      <th>romance</th>\n",
              "      <th>war</th>\n",
              "      <th>musical</th>\n",
              "    </tr>\n",
              "  </thead>\n",
              "  <tbody>\n",
              "    <tr>\n",
              "      <th>0</th>\n",
              "      <td>1</td>\n",
              "      <td>122</td>\n",
              "      <td>5.0</td>\n",
              "      <td>838985046</td>\n",
              "      <td>Boomerang (1992)</td>\n",
              "      <td>Comedy|Romance</td>\n",
              "      <td>0</td>\n",
              "      <td>1</td>\n",
              "      <td>0</td>\n",
              "      <td>0</td>\n",
              "      <td>0</td>\n",
              "      <td>0</td>\n",
              "      <td>0</td>\n",
              "      <td>0</td>\n",
              "      <td>0</td>\n",
              "      <td>0</td>\n",
              "      <td>0</td>\n",
              "      <td>0</td>\n",
              "      <td>0</td>\n",
              "      <td>0</td>\n",
              "      <td>0</td>\n",
              "      <td>1</td>\n",
              "      <td>0</td>\n",
              "      <td>0</td>\n",
              "    </tr>\n",
              "    <tr>\n",
              "      <th>1</th>\n",
              "      <td>1</td>\n",
              "      <td>185</td>\n",
              "      <td>5.0</td>\n",
              "      <td>838983525</td>\n",
              "      <td>Net, The (1995)</td>\n",
              "      <td>Action|Crime|Thriller</td>\n",
              "      <td>0</td>\n",
              "      <td>0</td>\n",
              "      <td>1</td>\n",
              "      <td>0</td>\n",
              "      <td>0</td>\n",
              "      <td>1</td>\n",
              "      <td>0</td>\n",
              "      <td>0</td>\n",
              "      <td>0</td>\n",
              "      <td>0</td>\n",
              "      <td>1</td>\n",
              "      <td>0</td>\n",
              "      <td>0</td>\n",
              "      <td>0</td>\n",
              "      <td>0</td>\n",
              "      <td>0</td>\n",
              "      <td>0</td>\n",
              "      <td>0</td>\n",
              "    </tr>\n",
              "    <tr>\n",
              "      <th>2</th>\n",
              "      <td>1</td>\n",
              "      <td>231</td>\n",
              "      <td>5.0</td>\n",
              "      <td>838983392</td>\n",
              "      <td>Dumb &amp; Dumber (1994)</td>\n",
              "      <td>Comedy</td>\n",
              "      <td>0</td>\n",
              "      <td>1</td>\n",
              "      <td>0</td>\n",
              "      <td>0</td>\n",
              "      <td>0</td>\n",
              "      <td>0</td>\n",
              "      <td>0</td>\n",
              "      <td>0</td>\n",
              "      <td>0</td>\n",
              "      <td>0</td>\n",
              "      <td>0</td>\n",
              "      <td>0</td>\n",
              "      <td>0</td>\n",
              "      <td>0</td>\n",
              "      <td>0</td>\n",
              "      <td>0</td>\n",
              "      <td>0</td>\n",
              "      <td>0</td>\n",
              "    </tr>\n",
              "    <tr>\n",
              "      <th>3</th>\n",
              "      <td>1</td>\n",
              "      <td>292</td>\n",
              "      <td>5.0</td>\n",
              "      <td>838983421</td>\n",
              "      <td>Outbreak (1995)</td>\n",
              "      <td>Action|Drama|Sci-Fi|Thriller</td>\n",
              "      <td>0</td>\n",
              "      <td>0</td>\n",
              "      <td>1</td>\n",
              "      <td>0</td>\n",
              "      <td>1</td>\n",
              "      <td>0</td>\n",
              "      <td>1</td>\n",
              "      <td>0</td>\n",
              "      <td>0</td>\n",
              "      <td>0</td>\n",
              "      <td>1</td>\n",
              "      <td>0</td>\n",
              "      <td>0</td>\n",
              "      <td>0</td>\n",
              "      <td>0</td>\n",
              "      <td>0</td>\n",
              "      <td>0</td>\n",
              "      <td>0</td>\n",
              "    </tr>\n",
              "    <tr>\n",
              "      <th>4</th>\n",
              "      <td>1</td>\n",
              "      <td>316</td>\n",
              "      <td>5.0</td>\n",
              "      <td>838983392</td>\n",
              "      <td>Stargate (1994)</td>\n",
              "      <td>Action|Adventure|Sci-Fi</td>\n",
              "      <td>1</td>\n",
              "      <td>0</td>\n",
              "      <td>1</td>\n",
              "      <td>0</td>\n",
              "      <td>0</td>\n",
              "      <td>0</td>\n",
              "      <td>1</td>\n",
              "      <td>0</td>\n",
              "      <td>0</td>\n",
              "      <td>0</td>\n",
              "      <td>0</td>\n",
              "      <td>0</td>\n",
              "      <td>0</td>\n",
              "      <td>0</td>\n",
              "      <td>0</td>\n",
              "      <td>0</td>\n",
              "      <td>0</td>\n",
              "      <td>0</td>\n",
              "    </tr>\n",
              "  </tbody>\n",
              "</table>\n",
              "</div>"
            ],
            "text/plain": [
              "   id_usuario  id_filmes  nota  timestamp  ... film-noir romance  war  musical\n",
              "0           1        122   5.0  838985046  ...         0       1    0        0\n",
              "1           1        185   5.0  838983525  ...         0       0    0        0\n",
              "2           1        231   5.0  838983392  ...         0       0    0        0\n",
              "3           1        292   5.0  838983421  ...         0       0    0        0\n",
              "4           1        316   5.0  838983392  ...         0       0    0        0\n",
              "\n",
              "[5 rows x 24 columns]"
            ]
          },
          "metadata": {
            "tags": []
          },
          "execution_count": 24
        }
      ]
    },
    {
      "cell_type": "markdown",
      "metadata": {
        "id": "OR59CJ65MQ12"
      },
      "source": [
        "## Modelagem\n",
        "\n",
        "Como definiremos gosto?\n",
        "\n"
      ]
    },
    {
      "cell_type": "markdown",
      "metadata": {
        "id": "2uy3d3ayhq5S"
      },
      "source": [
        "### Alternativa 1: somatório (NÃO usaremos)"
      ]
    },
    {
      "cell_type": "code",
      "metadata": {
        "id": "Q26y4UFUJ-7X",
        "colab": {
          "base_uri": "https://localhost:8080/",
          "height": 223
        },
        "outputId": "ca2aeea8-89b8-4c20-9b2c-4b2871e35110"
      },
      "source": [
        "df_cat_exp.groupby( by='id_usuario' ).sum().head()"
      ],
      "execution_count": 25,
      "outputs": [
        {
          "output_type": "execute_result",
          "data": {
            "text/html": [
              "<div>\n",
              "<style scoped>\n",
              "    .dataframe tbody tr th:only-of-type {\n",
              "        vertical-align: middle;\n",
              "    }\n",
              "\n",
              "    .dataframe tbody tr th {\n",
              "        vertical-align: top;\n",
              "    }\n",
              "\n",
              "    .dataframe thead th {\n",
              "        text-align: right;\n",
              "    }\n",
              "</style>\n",
              "<table border=\"1\" class=\"dataframe\">\n",
              "  <thead>\n",
              "    <tr style=\"text-align: right;\">\n",
              "      <th></th>\n",
              "      <th>id_filmes</th>\n",
              "      <th>nota</th>\n",
              "      <th>timestamp</th>\n",
              "      <th>adventure</th>\n",
              "      <th>comedy</th>\n",
              "      <th>action</th>\n",
              "      <th>animation</th>\n",
              "      <th>drama</th>\n",
              "      <th>crime</th>\n",
              "      <th>sci-fi</th>\n",
              "      <th>children</th>\n",
              "      <th>documentary</th>\n",
              "      <th>mystery</th>\n",
              "      <th>thriller</th>\n",
              "      <th>horror</th>\n",
              "      <th>fantasy</th>\n",
              "      <th>western</th>\n",
              "      <th>film-noir</th>\n",
              "      <th>romance</th>\n",
              "      <th>war</th>\n",
              "      <th>musical</th>\n",
              "    </tr>\n",
              "    <tr>\n",
              "      <th>id_usuario</th>\n",
              "      <th></th>\n",
              "      <th></th>\n",
              "      <th></th>\n",
              "      <th></th>\n",
              "      <th></th>\n",
              "      <th></th>\n",
              "      <th></th>\n",
              "      <th></th>\n",
              "      <th></th>\n",
              "      <th></th>\n",
              "      <th></th>\n",
              "      <th></th>\n",
              "      <th></th>\n",
              "      <th></th>\n",
              "      <th></th>\n",
              "      <th></th>\n",
              "      <th></th>\n",
              "      <th></th>\n",
              "      <th></th>\n",
              "      <th></th>\n",
              "      <th></th>\n",
              "    </tr>\n",
              "  </thead>\n",
              "  <tbody>\n",
              "    <tr>\n",
              "      <th>1</th>\n",
              "      <td>9057</td>\n",
              "      <td>110.0</td>\n",
              "      <td>18457649035</td>\n",
              "      <td>6</td>\n",
              "      <td>11</td>\n",
              "      <td>10</td>\n",
              "      <td>4</td>\n",
              "      <td>6</td>\n",
              "      <td>2</td>\n",
              "      <td>5</td>\n",
              "      <td>7</td>\n",
              "      <td>0</td>\n",
              "      <td>0</td>\n",
              "      <td>5</td>\n",
              "      <td>0</td>\n",
              "      <td>2</td>\n",
              "      <td>0</td>\n",
              "      <td>0</td>\n",
              "      <td>5</td>\n",
              "      <td>2</td>\n",
              "      <td>3</td>\n",
              "    </tr>\n",
              "    <tr>\n",
              "      <th>2</th>\n",
              "      <td>15711</td>\n",
              "      <td>64.0</td>\n",
              "      <td>17364906892</td>\n",
              "      <td>10</td>\n",
              "      <td>4</td>\n",
              "      <td>14</td>\n",
              "      <td>0</td>\n",
              "      <td>7</td>\n",
              "      <td>1</td>\n",
              "      <td>6</td>\n",
              "      <td>1</td>\n",
              "      <td>0</td>\n",
              "      <td>1</td>\n",
              "      <td>7</td>\n",
              "      <td>1</td>\n",
              "      <td>1</td>\n",
              "      <td>1</td>\n",
              "      <td>0</td>\n",
              "      <td>4</td>\n",
              "      <td>3</td>\n",
              "      <td>1</td>\n",
              "    </tr>\n",
              "    <tr>\n",
              "      <th>3</th>\n",
              "      <td>179578</td>\n",
              "      <td>130.0</td>\n",
              "      <td>37626818010</td>\n",
              "      <td>6</td>\n",
              "      <td>11</td>\n",
              "      <td>7</td>\n",
              "      <td>2</td>\n",
              "      <td>20</td>\n",
              "      <td>3</td>\n",
              "      <td>0</td>\n",
              "      <td>2</td>\n",
              "      <td>0</td>\n",
              "      <td>4</td>\n",
              "      <td>6</td>\n",
              "      <td>0</td>\n",
              "      <td>3</td>\n",
              "      <td>3</td>\n",
              "      <td>1</td>\n",
              "      <td>12</td>\n",
              "      <td>6</td>\n",
              "      <td>1</td>\n",
              "    </tr>\n",
              "    <tr>\n",
              "      <th>4</th>\n",
              "      <td>13501</td>\n",
              "      <td>153.0</td>\n",
              "      <td>32087840561</td>\n",
              "      <td>13</td>\n",
              "      <td>19</td>\n",
              "      <td>17</td>\n",
              "      <td>3</td>\n",
              "      <td>14</td>\n",
              "      <td>5</td>\n",
              "      <td>8</td>\n",
              "      <td>5</td>\n",
              "      <td>0</td>\n",
              "      <td>0</td>\n",
              "      <td>11</td>\n",
              "      <td>1</td>\n",
              "      <td>5</td>\n",
              "      <td>3</td>\n",
              "      <td>0</td>\n",
              "      <td>8</td>\n",
              "      <td>3</td>\n",
              "      <td>3</td>\n",
              "    </tr>\n",
              "    <tr>\n",
              "      <th>5</th>\n",
              "      <td>56883</td>\n",
              "      <td>335.0</td>\n",
              "      <td>74638384961</td>\n",
              "      <td>8</td>\n",
              "      <td>29</td>\n",
              "      <td>5</td>\n",
              "      <td>1</td>\n",
              "      <td>64</td>\n",
              "      <td>11</td>\n",
              "      <td>8</td>\n",
              "      <td>4</td>\n",
              "      <td>0</td>\n",
              "      <td>4</td>\n",
              "      <td>14</td>\n",
              "      <td>6</td>\n",
              "      <td>4</td>\n",
              "      <td>0</td>\n",
              "      <td>1</td>\n",
              "      <td>26</td>\n",
              "      <td>6</td>\n",
              "      <td>4</td>\n",
              "    </tr>\n",
              "  </tbody>\n",
              "</table>\n",
              "</div>"
            ],
            "text/plain": [
              "            id_filmes   nota    timestamp  ...  romance  war  musical\n",
              "id_usuario                                 ...                       \n",
              "1                9057  110.0  18457649035  ...        5    2        3\n",
              "2               15711   64.0  17364906892  ...        4    3        1\n",
              "3              179578  130.0  37626818010  ...       12    6        1\n",
              "4               13501  153.0  32087840561  ...        8    3        3\n",
              "5               56883  335.0  74638384961  ...       26    6        4\n",
              "\n",
              "[5 rows x 21 columns]"
            ]
          },
          "metadata": {
            "tags": []
          },
          "execution_count": 25
        }
      ]
    },
    {
      "cell_type": "markdown",
      "metadata": {
        "id": "Q-_j7Pijjd2z"
      },
      "source": [
        "## Alternativa 2: média (NÃO usaremos)"
      ]
    },
    {
      "cell_type": "code",
      "metadata": {
        "colab": {
          "base_uri": "https://localhost:8080/",
          "height": 260
        },
        "id": "DAWmp2DXh9Yy",
        "outputId": "ffe6f843-d4fd-4af7-873d-ecd78104e1a9"
      },
      "source": [
        "df_mean = df_cat_exp.groupby( by='id_usuario' ).mean()\n",
        "df_mean.head()"
      ],
      "execution_count": 26,
      "outputs": [
        {
          "output_type": "execute_result",
          "data": {
            "text/html": [
              "<div>\n",
              "<style scoped>\n",
              "    .dataframe tbody tr th:only-of-type {\n",
              "        vertical-align: middle;\n",
              "    }\n",
              "\n",
              "    .dataframe tbody tr th {\n",
              "        vertical-align: top;\n",
              "    }\n",
              "\n",
              "    .dataframe thead th {\n",
              "        text-align: right;\n",
              "    }\n",
              "</style>\n",
              "<table border=\"1\" class=\"dataframe\">\n",
              "  <thead>\n",
              "    <tr style=\"text-align: right;\">\n",
              "      <th></th>\n",
              "      <th>id_filmes</th>\n",
              "      <th>nota</th>\n",
              "      <th>timestamp</th>\n",
              "      <th>adventure</th>\n",
              "      <th>comedy</th>\n",
              "      <th>action</th>\n",
              "      <th>animation</th>\n",
              "      <th>drama</th>\n",
              "      <th>crime</th>\n",
              "      <th>sci-fi</th>\n",
              "      <th>children</th>\n",
              "      <th>documentary</th>\n",
              "      <th>mystery</th>\n",
              "      <th>thriller</th>\n",
              "      <th>horror</th>\n",
              "      <th>fantasy</th>\n",
              "      <th>western</th>\n",
              "      <th>film-noir</th>\n",
              "      <th>romance</th>\n",
              "      <th>war</th>\n",
              "      <th>musical</th>\n",
              "    </tr>\n",
              "    <tr>\n",
              "      <th>id_usuario</th>\n",
              "      <th></th>\n",
              "      <th></th>\n",
              "      <th></th>\n",
              "      <th></th>\n",
              "      <th></th>\n",
              "      <th></th>\n",
              "      <th></th>\n",
              "      <th></th>\n",
              "      <th></th>\n",
              "      <th></th>\n",
              "      <th></th>\n",
              "      <th></th>\n",
              "      <th></th>\n",
              "      <th></th>\n",
              "      <th></th>\n",
              "      <th></th>\n",
              "      <th></th>\n",
              "      <th></th>\n",
              "      <th></th>\n",
              "      <th></th>\n",
              "      <th></th>\n",
              "    </tr>\n",
              "  </thead>\n",
              "  <tbody>\n",
              "    <tr>\n",
              "      <th>1</th>\n",
              "      <td>411.681818</td>\n",
              "      <td>5.000000</td>\n",
              "      <td>8.389840e+08</td>\n",
              "      <td>0.272727</td>\n",
              "      <td>0.500000</td>\n",
              "      <td>0.454545</td>\n",
              "      <td>0.181818</td>\n",
              "      <td>0.272727</td>\n",
              "      <td>0.090909</td>\n",
              "      <td>0.227273</td>\n",
              "      <td>0.318182</td>\n",
              "      <td>0.0</td>\n",
              "      <td>0.000000</td>\n",
              "      <td>0.227273</td>\n",
              "      <td>0.000000</td>\n",
              "      <td>0.090909</td>\n",
              "      <td>0.000000</td>\n",
              "      <td>0.000000</td>\n",
              "      <td>0.227273</td>\n",
              "      <td>0.090909</td>\n",
              "      <td>0.136364</td>\n",
              "    </tr>\n",
              "    <tr>\n",
              "      <th>2</th>\n",
              "      <td>785.550000</td>\n",
              "      <td>3.200000</td>\n",
              "      <td>8.682453e+08</td>\n",
              "      <td>0.500000</td>\n",
              "      <td>0.200000</td>\n",
              "      <td>0.700000</td>\n",
              "      <td>0.000000</td>\n",
              "      <td>0.350000</td>\n",
              "      <td>0.050000</td>\n",
              "      <td>0.300000</td>\n",
              "      <td>0.050000</td>\n",
              "      <td>0.0</td>\n",
              "      <td>0.050000</td>\n",
              "      <td>0.350000</td>\n",
              "      <td>0.050000</td>\n",
              "      <td>0.050000</td>\n",
              "      <td>0.050000</td>\n",
              "      <td>0.000000</td>\n",
              "      <td>0.200000</td>\n",
              "      <td>0.150000</td>\n",
              "      <td>0.050000</td>\n",
              "    </tr>\n",
              "    <tr>\n",
              "      <th>3</th>\n",
              "      <td>5441.757576</td>\n",
              "      <td>3.939394</td>\n",
              "      <td>1.140207e+09</td>\n",
              "      <td>0.181818</td>\n",
              "      <td>0.333333</td>\n",
              "      <td>0.212121</td>\n",
              "      <td>0.060606</td>\n",
              "      <td>0.606061</td>\n",
              "      <td>0.090909</td>\n",
              "      <td>0.000000</td>\n",
              "      <td>0.060606</td>\n",
              "      <td>0.0</td>\n",
              "      <td>0.121212</td>\n",
              "      <td>0.181818</td>\n",
              "      <td>0.000000</td>\n",
              "      <td>0.090909</td>\n",
              "      <td>0.090909</td>\n",
              "      <td>0.030303</td>\n",
              "      <td>0.363636</td>\n",
              "      <td>0.181818</td>\n",
              "      <td>0.030303</td>\n",
              "    </tr>\n",
              "    <tr>\n",
              "      <th>4</th>\n",
              "      <td>355.289474</td>\n",
              "      <td>4.026316</td>\n",
              "      <td>8.444169e+08</td>\n",
              "      <td>0.342105</td>\n",
              "      <td>0.500000</td>\n",
              "      <td>0.447368</td>\n",
              "      <td>0.078947</td>\n",
              "      <td>0.368421</td>\n",
              "      <td>0.131579</td>\n",
              "      <td>0.210526</td>\n",
              "      <td>0.131579</td>\n",
              "      <td>0.0</td>\n",
              "      <td>0.000000</td>\n",
              "      <td>0.289474</td>\n",
              "      <td>0.026316</td>\n",
              "      <td>0.131579</td>\n",
              "      <td>0.078947</td>\n",
              "      <td>0.000000</td>\n",
              "      <td>0.210526</td>\n",
              "      <td>0.078947</td>\n",
              "      <td>0.078947</td>\n",
              "    </tr>\n",
              "    <tr>\n",
              "      <th>5</th>\n",
              "      <td>653.827586</td>\n",
              "      <td>3.850575</td>\n",
              "      <td>8.579125e+08</td>\n",
              "      <td>0.091954</td>\n",
              "      <td>0.333333</td>\n",
              "      <td>0.057471</td>\n",
              "      <td>0.011494</td>\n",
              "      <td>0.735632</td>\n",
              "      <td>0.126437</td>\n",
              "      <td>0.091954</td>\n",
              "      <td>0.045977</td>\n",
              "      <td>0.0</td>\n",
              "      <td>0.045977</td>\n",
              "      <td>0.160920</td>\n",
              "      <td>0.068966</td>\n",
              "      <td>0.045977</td>\n",
              "      <td>0.000000</td>\n",
              "      <td>0.011494</td>\n",
              "      <td>0.298851</td>\n",
              "      <td>0.068966</td>\n",
              "      <td>0.045977</td>\n",
              "    </tr>\n",
              "  </tbody>\n",
              "</table>\n",
              "</div>"
            ],
            "text/plain": [
              "              id_filmes      nota     timestamp  ...   romance       war   musical\n",
              "id_usuario                                       ...                              \n",
              "1            411.681818  5.000000  8.389840e+08  ...  0.227273  0.090909  0.136364\n",
              "2            785.550000  3.200000  8.682453e+08  ...  0.200000  0.150000  0.050000\n",
              "3           5441.757576  3.939394  1.140207e+09  ...  0.363636  0.181818  0.030303\n",
              "4            355.289474  4.026316  8.444169e+08  ...  0.210526  0.078947  0.078947\n",
              "5            653.827586  3.850575  8.579125e+08  ...  0.298851  0.068966  0.045977\n",
              "\n",
              "[5 rows x 21 columns]"
            ]
          },
          "metadata": {
            "tags": []
          },
          "execution_count": 26
        }
      ]
    },
    {
      "cell_type": "markdown",
      "metadata": {
        "id": "fBht3pVWmLhN"
      },
      "source": [
        "## Alternativa 3:\n",
        "\n",
        "(Avaliação * Categorias) . mean"
      ]
    },
    {
      "cell_type": "code",
      "metadata": {
        "colab": {
          "base_uri": "https://localhost:8080/",
          "height": 176
        },
        "id": "VoE-Yxztlgpf",
        "outputId": "c4e4db4d-a979-443b-80eb-5512aa905ad2"
      },
      "source": [
        "df_cat_exp.head(2)"
      ],
      "execution_count": 27,
      "outputs": [
        {
          "output_type": "execute_result",
          "data": {
            "text/html": [
              "<div>\n",
              "<style scoped>\n",
              "    .dataframe tbody tr th:only-of-type {\n",
              "        vertical-align: middle;\n",
              "    }\n",
              "\n",
              "    .dataframe tbody tr th {\n",
              "        vertical-align: top;\n",
              "    }\n",
              "\n",
              "    .dataframe thead th {\n",
              "        text-align: right;\n",
              "    }\n",
              "</style>\n",
              "<table border=\"1\" class=\"dataframe\">\n",
              "  <thead>\n",
              "    <tr style=\"text-align: right;\">\n",
              "      <th></th>\n",
              "      <th>id_usuario</th>\n",
              "      <th>id_filmes</th>\n",
              "      <th>nota</th>\n",
              "      <th>timestamp</th>\n",
              "      <th>nomes</th>\n",
              "      <th>categorias</th>\n",
              "      <th>adventure</th>\n",
              "      <th>comedy</th>\n",
              "      <th>action</th>\n",
              "      <th>animation</th>\n",
              "      <th>drama</th>\n",
              "      <th>crime</th>\n",
              "      <th>sci-fi</th>\n",
              "      <th>children</th>\n",
              "      <th>documentary</th>\n",
              "      <th>mystery</th>\n",
              "      <th>thriller</th>\n",
              "      <th>horror</th>\n",
              "      <th>fantasy</th>\n",
              "      <th>western</th>\n",
              "      <th>film-noir</th>\n",
              "      <th>romance</th>\n",
              "      <th>war</th>\n",
              "      <th>musical</th>\n",
              "    </tr>\n",
              "  </thead>\n",
              "  <tbody>\n",
              "    <tr>\n",
              "      <th>0</th>\n",
              "      <td>1</td>\n",
              "      <td>122</td>\n",
              "      <td>5.0</td>\n",
              "      <td>838985046</td>\n",
              "      <td>Boomerang (1992)</td>\n",
              "      <td>Comedy|Romance</td>\n",
              "      <td>0</td>\n",
              "      <td>1</td>\n",
              "      <td>0</td>\n",
              "      <td>0</td>\n",
              "      <td>0</td>\n",
              "      <td>0</td>\n",
              "      <td>0</td>\n",
              "      <td>0</td>\n",
              "      <td>0</td>\n",
              "      <td>0</td>\n",
              "      <td>0</td>\n",
              "      <td>0</td>\n",
              "      <td>0</td>\n",
              "      <td>0</td>\n",
              "      <td>0</td>\n",
              "      <td>1</td>\n",
              "      <td>0</td>\n",
              "      <td>0</td>\n",
              "    </tr>\n",
              "    <tr>\n",
              "      <th>1</th>\n",
              "      <td>1</td>\n",
              "      <td>185</td>\n",
              "      <td>5.0</td>\n",
              "      <td>838983525</td>\n",
              "      <td>Net, The (1995)</td>\n",
              "      <td>Action|Crime|Thriller</td>\n",
              "      <td>0</td>\n",
              "      <td>0</td>\n",
              "      <td>1</td>\n",
              "      <td>0</td>\n",
              "      <td>0</td>\n",
              "      <td>1</td>\n",
              "      <td>0</td>\n",
              "      <td>0</td>\n",
              "      <td>0</td>\n",
              "      <td>0</td>\n",
              "      <td>1</td>\n",
              "      <td>0</td>\n",
              "      <td>0</td>\n",
              "      <td>0</td>\n",
              "      <td>0</td>\n",
              "      <td>0</td>\n",
              "      <td>0</td>\n",
              "      <td>0</td>\n",
              "    </tr>\n",
              "  </tbody>\n",
              "</table>\n",
              "</div>"
            ],
            "text/plain": [
              "   id_usuario  id_filmes  nota  timestamp  ... film-noir romance  war  musical\n",
              "0           1        122   5.0  838985046  ...         0       1    0        0\n",
              "1           1        185   5.0  838983525  ...         0       0    0        0\n",
              "\n",
              "[2 rows x 24 columns]"
            ]
          },
          "metadata": {
            "tags": []
          },
          "execution_count": 27
        }
      ]
    },
    {
      "cell_type": "code",
      "metadata": {
        "id": "AMvckihjlfvj"
      },
      "source": [
        "# Multiplicar as categorias pela nota\n",
        "df_cat_exp.iloc[:,6:] = df_cat_exp.iloc[:,6:].multiply( df_cat_exp.nota, axis='index' )"
      ],
      "execution_count": 28,
      "outputs": []
    },
    {
      "cell_type": "code",
      "metadata": {
        "colab": {
          "base_uri": "https://localhost:8080/",
          "height": 332
        },
        "id": "1MmmJpjhmi6m",
        "outputId": "57e18fdb-6672-41e2-f102-6ea11118f192"
      },
      "source": [
        "df_cat_exp.head()"
      ],
      "execution_count": 29,
      "outputs": [
        {
          "output_type": "execute_result",
          "data": {
            "text/html": [
              "<div>\n",
              "<style scoped>\n",
              "    .dataframe tbody tr th:only-of-type {\n",
              "        vertical-align: middle;\n",
              "    }\n",
              "\n",
              "    .dataframe tbody tr th {\n",
              "        vertical-align: top;\n",
              "    }\n",
              "\n",
              "    .dataframe thead th {\n",
              "        text-align: right;\n",
              "    }\n",
              "</style>\n",
              "<table border=\"1\" class=\"dataframe\">\n",
              "  <thead>\n",
              "    <tr style=\"text-align: right;\">\n",
              "      <th></th>\n",
              "      <th>id_usuario</th>\n",
              "      <th>id_filmes</th>\n",
              "      <th>nota</th>\n",
              "      <th>timestamp</th>\n",
              "      <th>nomes</th>\n",
              "      <th>categorias</th>\n",
              "      <th>adventure</th>\n",
              "      <th>comedy</th>\n",
              "      <th>action</th>\n",
              "      <th>animation</th>\n",
              "      <th>drama</th>\n",
              "      <th>crime</th>\n",
              "      <th>sci-fi</th>\n",
              "      <th>children</th>\n",
              "      <th>documentary</th>\n",
              "      <th>mystery</th>\n",
              "      <th>thriller</th>\n",
              "      <th>horror</th>\n",
              "      <th>fantasy</th>\n",
              "      <th>western</th>\n",
              "      <th>film-noir</th>\n",
              "      <th>romance</th>\n",
              "      <th>war</th>\n",
              "      <th>musical</th>\n",
              "    </tr>\n",
              "  </thead>\n",
              "  <tbody>\n",
              "    <tr>\n",
              "      <th>0</th>\n",
              "      <td>1</td>\n",
              "      <td>122</td>\n",
              "      <td>5.0</td>\n",
              "      <td>838985046</td>\n",
              "      <td>Boomerang (1992)</td>\n",
              "      <td>Comedy|Romance</td>\n",
              "      <td>0.0</td>\n",
              "      <td>5.0</td>\n",
              "      <td>0.0</td>\n",
              "      <td>0.0</td>\n",
              "      <td>0.0</td>\n",
              "      <td>0.0</td>\n",
              "      <td>0.0</td>\n",
              "      <td>0.0</td>\n",
              "      <td>0.0</td>\n",
              "      <td>0.0</td>\n",
              "      <td>0.0</td>\n",
              "      <td>0.0</td>\n",
              "      <td>0.0</td>\n",
              "      <td>0.0</td>\n",
              "      <td>0.0</td>\n",
              "      <td>5.0</td>\n",
              "      <td>0.0</td>\n",
              "      <td>0.0</td>\n",
              "    </tr>\n",
              "    <tr>\n",
              "      <th>1</th>\n",
              "      <td>1</td>\n",
              "      <td>185</td>\n",
              "      <td>5.0</td>\n",
              "      <td>838983525</td>\n",
              "      <td>Net, The (1995)</td>\n",
              "      <td>Action|Crime|Thriller</td>\n",
              "      <td>0.0</td>\n",
              "      <td>0.0</td>\n",
              "      <td>5.0</td>\n",
              "      <td>0.0</td>\n",
              "      <td>0.0</td>\n",
              "      <td>5.0</td>\n",
              "      <td>0.0</td>\n",
              "      <td>0.0</td>\n",
              "      <td>0.0</td>\n",
              "      <td>0.0</td>\n",
              "      <td>5.0</td>\n",
              "      <td>0.0</td>\n",
              "      <td>0.0</td>\n",
              "      <td>0.0</td>\n",
              "      <td>0.0</td>\n",
              "      <td>0.0</td>\n",
              "      <td>0.0</td>\n",
              "      <td>0.0</td>\n",
              "    </tr>\n",
              "    <tr>\n",
              "      <th>2</th>\n",
              "      <td>1</td>\n",
              "      <td>231</td>\n",
              "      <td>5.0</td>\n",
              "      <td>838983392</td>\n",
              "      <td>Dumb &amp; Dumber (1994)</td>\n",
              "      <td>Comedy</td>\n",
              "      <td>0.0</td>\n",
              "      <td>5.0</td>\n",
              "      <td>0.0</td>\n",
              "      <td>0.0</td>\n",
              "      <td>0.0</td>\n",
              "      <td>0.0</td>\n",
              "      <td>0.0</td>\n",
              "      <td>0.0</td>\n",
              "      <td>0.0</td>\n",
              "      <td>0.0</td>\n",
              "      <td>0.0</td>\n",
              "      <td>0.0</td>\n",
              "      <td>0.0</td>\n",
              "      <td>0.0</td>\n",
              "      <td>0.0</td>\n",
              "      <td>0.0</td>\n",
              "      <td>0.0</td>\n",
              "      <td>0.0</td>\n",
              "    </tr>\n",
              "    <tr>\n",
              "      <th>3</th>\n",
              "      <td>1</td>\n",
              "      <td>292</td>\n",
              "      <td>5.0</td>\n",
              "      <td>838983421</td>\n",
              "      <td>Outbreak (1995)</td>\n",
              "      <td>Action|Drama|Sci-Fi|Thriller</td>\n",
              "      <td>0.0</td>\n",
              "      <td>0.0</td>\n",
              "      <td>5.0</td>\n",
              "      <td>0.0</td>\n",
              "      <td>5.0</td>\n",
              "      <td>0.0</td>\n",
              "      <td>5.0</td>\n",
              "      <td>0.0</td>\n",
              "      <td>0.0</td>\n",
              "      <td>0.0</td>\n",
              "      <td>5.0</td>\n",
              "      <td>0.0</td>\n",
              "      <td>0.0</td>\n",
              "      <td>0.0</td>\n",
              "      <td>0.0</td>\n",
              "      <td>0.0</td>\n",
              "      <td>0.0</td>\n",
              "      <td>0.0</td>\n",
              "    </tr>\n",
              "    <tr>\n",
              "      <th>4</th>\n",
              "      <td>1</td>\n",
              "      <td>316</td>\n",
              "      <td>5.0</td>\n",
              "      <td>838983392</td>\n",
              "      <td>Stargate (1994)</td>\n",
              "      <td>Action|Adventure|Sci-Fi</td>\n",
              "      <td>5.0</td>\n",
              "      <td>0.0</td>\n",
              "      <td>5.0</td>\n",
              "      <td>0.0</td>\n",
              "      <td>0.0</td>\n",
              "      <td>0.0</td>\n",
              "      <td>5.0</td>\n",
              "      <td>0.0</td>\n",
              "      <td>0.0</td>\n",
              "      <td>0.0</td>\n",
              "      <td>0.0</td>\n",
              "      <td>0.0</td>\n",
              "      <td>0.0</td>\n",
              "      <td>0.0</td>\n",
              "      <td>0.0</td>\n",
              "      <td>0.0</td>\n",
              "      <td>0.0</td>\n",
              "      <td>0.0</td>\n",
              "    </tr>\n",
              "  </tbody>\n",
              "</table>\n",
              "</div>"
            ],
            "text/plain": [
              "   id_usuario  id_filmes  nota  timestamp  ... film-noir romance  war  musical\n",
              "0           1        122   5.0  838985046  ...       0.0     5.0  0.0      0.0\n",
              "1           1        185   5.0  838983525  ...       0.0     0.0  0.0      0.0\n",
              "2           1        231   5.0  838983392  ...       0.0     0.0  0.0      0.0\n",
              "3           1        292   5.0  838983421  ...       0.0     0.0  0.0      0.0\n",
              "4           1        316   5.0  838983392  ...       0.0     0.0  0.0      0.0\n",
              "\n",
              "[5 rows x 24 columns]"
            ]
          },
          "metadata": {
            "tags": []
          },
          "execution_count": 29
        }
      ]
    },
    {
      "cell_type": "code",
      "metadata": {
        "colab": {
          "base_uri": "https://localhost:8080/",
          "height": 260
        },
        "id": "JRhEIXLynbbf",
        "outputId": "b4c6d3e5-2c88-495c-87f8-cb0077c79537"
      },
      "source": [
        "# Agrupar utilizando média\n",
        "df_mean = df_cat_exp.groupby( by='id_usuario' ).mean()\n",
        "df_mean.head()"
      ],
      "execution_count": 30,
      "outputs": [
        {
          "output_type": "execute_result",
          "data": {
            "text/html": [
              "<div>\n",
              "<style scoped>\n",
              "    .dataframe tbody tr th:only-of-type {\n",
              "        vertical-align: middle;\n",
              "    }\n",
              "\n",
              "    .dataframe tbody tr th {\n",
              "        vertical-align: top;\n",
              "    }\n",
              "\n",
              "    .dataframe thead th {\n",
              "        text-align: right;\n",
              "    }\n",
              "</style>\n",
              "<table border=\"1\" class=\"dataframe\">\n",
              "  <thead>\n",
              "    <tr style=\"text-align: right;\">\n",
              "      <th></th>\n",
              "      <th>id_filmes</th>\n",
              "      <th>nota</th>\n",
              "      <th>timestamp</th>\n",
              "      <th>adventure</th>\n",
              "      <th>comedy</th>\n",
              "      <th>action</th>\n",
              "      <th>animation</th>\n",
              "      <th>drama</th>\n",
              "      <th>crime</th>\n",
              "      <th>sci-fi</th>\n",
              "      <th>children</th>\n",
              "      <th>documentary</th>\n",
              "      <th>mystery</th>\n",
              "      <th>thriller</th>\n",
              "      <th>horror</th>\n",
              "      <th>fantasy</th>\n",
              "      <th>western</th>\n",
              "      <th>film-noir</th>\n",
              "      <th>romance</th>\n",
              "      <th>war</th>\n",
              "      <th>musical</th>\n",
              "    </tr>\n",
              "    <tr>\n",
              "      <th>id_usuario</th>\n",
              "      <th></th>\n",
              "      <th></th>\n",
              "      <th></th>\n",
              "      <th></th>\n",
              "      <th></th>\n",
              "      <th></th>\n",
              "      <th></th>\n",
              "      <th></th>\n",
              "      <th></th>\n",
              "      <th></th>\n",
              "      <th></th>\n",
              "      <th></th>\n",
              "      <th></th>\n",
              "      <th></th>\n",
              "      <th></th>\n",
              "      <th></th>\n",
              "      <th></th>\n",
              "      <th></th>\n",
              "      <th></th>\n",
              "      <th></th>\n",
              "      <th></th>\n",
              "    </tr>\n",
              "  </thead>\n",
              "  <tbody>\n",
              "    <tr>\n",
              "      <th>1</th>\n",
              "      <td>411.681818</td>\n",
              "      <td>5.000000</td>\n",
              "      <td>8.389840e+08</td>\n",
              "      <td>1.363636</td>\n",
              "      <td>2.500000</td>\n",
              "      <td>2.272727</td>\n",
              "      <td>0.909091</td>\n",
              "      <td>1.363636</td>\n",
              "      <td>0.454545</td>\n",
              "      <td>1.136364</td>\n",
              "      <td>1.590909</td>\n",
              "      <td>0.0</td>\n",
              "      <td>0.000000</td>\n",
              "      <td>1.136364</td>\n",
              "      <td>0.000000</td>\n",
              "      <td>0.454545</td>\n",
              "      <td>0.000000</td>\n",
              "      <td>0.000000</td>\n",
              "      <td>1.136364</td>\n",
              "      <td>0.454545</td>\n",
              "      <td>0.681818</td>\n",
              "    </tr>\n",
              "    <tr>\n",
              "      <th>2</th>\n",
              "      <td>785.550000</td>\n",
              "      <td>3.200000</td>\n",
              "      <td>8.682453e+08</td>\n",
              "      <td>1.700000</td>\n",
              "      <td>0.600000</td>\n",
              "      <td>2.300000</td>\n",
              "      <td>0.000000</td>\n",
              "      <td>1.150000</td>\n",
              "      <td>0.100000</td>\n",
              "      <td>1.050000</td>\n",
              "      <td>0.150000</td>\n",
              "      <td>0.0</td>\n",
              "      <td>0.100000</td>\n",
              "      <td>1.000000</td>\n",
              "      <td>0.150000</td>\n",
              "      <td>0.150000</td>\n",
              "      <td>0.250000</td>\n",
              "      <td>0.000000</td>\n",
              "      <td>0.550000</td>\n",
              "      <td>0.550000</td>\n",
              "      <td>0.150000</td>\n",
              "    </tr>\n",
              "    <tr>\n",
              "      <th>3</th>\n",
              "      <td>5441.757576</td>\n",
              "      <td>3.939394</td>\n",
              "      <td>1.140207e+09</td>\n",
              "      <td>0.666667</td>\n",
              "      <td>1.212121</td>\n",
              "      <td>0.818182</td>\n",
              "      <td>0.242424</td>\n",
              "      <td>2.530303</td>\n",
              "      <td>0.363636</td>\n",
              "      <td>0.000000</td>\n",
              "      <td>0.242424</td>\n",
              "      <td>0.0</td>\n",
              "      <td>0.545455</td>\n",
              "      <td>0.742424</td>\n",
              "      <td>0.000000</td>\n",
              "      <td>0.378788</td>\n",
              "      <td>0.333333</td>\n",
              "      <td>0.121212</td>\n",
              "      <td>1.530303</td>\n",
              "      <td>0.742424</td>\n",
              "      <td>0.090909</td>\n",
              "    </tr>\n",
              "    <tr>\n",
              "      <th>4</th>\n",
              "      <td>355.289474</td>\n",
              "      <td>4.026316</td>\n",
              "      <td>8.444169e+08</td>\n",
              "      <td>1.447368</td>\n",
              "      <td>1.842105</td>\n",
              "      <td>1.763158</td>\n",
              "      <td>0.394737</td>\n",
              "      <td>1.684211</td>\n",
              "      <td>0.552632</td>\n",
              "      <td>0.894737</td>\n",
              "      <td>0.657895</td>\n",
              "      <td>0.0</td>\n",
              "      <td>0.000000</td>\n",
              "      <td>1.131579</td>\n",
              "      <td>0.078947</td>\n",
              "      <td>0.605263</td>\n",
              "      <td>0.342105</td>\n",
              "      <td>0.000000</td>\n",
              "      <td>0.789474</td>\n",
              "      <td>0.394737</td>\n",
              "      <td>0.394737</td>\n",
              "    </tr>\n",
              "    <tr>\n",
              "      <th>5</th>\n",
              "      <td>653.827586</td>\n",
              "      <td>3.850575</td>\n",
              "      <td>8.579125e+08</td>\n",
              "      <td>0.275862</td>\n",
              "      <td>1.195402</td>\n",
              "      <td>0.103448</td>\n",
              "      <td>0.011494</td>\n",
              "      <td>2.942529</td>\n",
              "      <td>0.540230</td>\n",
              "      <td>0.310345</td>\n",
              "      <td>0.149425</td>\n",
              "      <td>0.0</td>\n",
              "      <td>0.195402</td>\n",
              "      <td>0.643678</td>\n",
              "      <td>0.298851</td>\n",
              "      <td>0.172414</td>\n",
              "      <td>0.000000</td>\n",
              "      <td>0.057471</td>\n",
              "      <td>1.126437</td>\n",
              "      <td>0.275862</td>\n",
              "      <td>0.172414</td>\n",
              "    </tr>\n",
              "  </tbody>\n",
              "</table>\n",
              "</div>"
            ],
            "text/plain": [
              "              id_filmes      nota     timestamp  ...   romance       war   musical\n",
              "id_usuario                                       ...                              \n",
              "1            411.681818  5.000000  8.389840e+08  ...  1.136364  0.454545  0.681818\n",
              "2            785.550000  3.200000  8.682453e+08  ...  0.550000  0.550000  0.150000\n",
              "3           5441.757576  3.939394  1.140207e+09  ...  1.530303  0.742424  0.090909\n",
              "4            355.289474  4.026316  8.444169e+08  ...  0.789474  0.394737  0.394737\n",
              "5            653.827586  3.850575  8.579125e+08  ...  1.126437  0.275862  0.172414\n",
              "\n",
              "[5 rows x 21 columns]"
            ]
          },
          "metadata": {
            "tags": []
          },
          "execution_count": 30
        }
      ]
    },
    {
      "cell_type": "code",
      "metadata": {
        "colab": {
          "base_uri": "https://localhost:8080/",
          "height": 223
        },
        "id": "4OH1elJJn3mI",
        "outputId": "78056524-4497-4b99-f716-c9b189c2ec26"
      },
      "source": [
        "df_features = df_mean.drop( labels=['id_filmes', 'timestamp'], axis='columns' )\n",
        "df_features.head()"
      ],
      "execution_count": 31,
      "outputs": [
        {
          "output_type": "execute_result",
          "data": {
            "text/html": [
              "<div>\n",
              "<style scoped>\n",
              "    .dataframe tbody tr th:only-of-type {\n",
              "        vertical-align: middle;\n",
              "    }\n",
              "\n",
              "    .dataframe tbody tr th {\n",
              "        vertical-align: top;\n",
              "    }\n",
              "\n",
              "    .dataframe thead th {\n",
              "        text-align: right;\n",
              "    }\n",
              "</style>\n",
              "<table border=\"1\" class=\"dataframe\">\n",
              "  <thead>\n",
              "    <tr style=\"text-align: right;\">\n",
              "      <th></th>\n",
              "      <th>nota</th>\n",
              "      <th>adventure</th>\n",
              "      <th>comedy</th>\n",
              "      <th>action</th>\n",
              "      <th>animation</th>\n",
              "      <th>drama</th>\n",
              "      <th>crime</th>\n",
              "      <th>sci-fi</th>\n",
              "      <th>children</th>\n",
              "      <th>documentary</th>\n",
              "      <th>mystery</th>\n",
              "      <th>thriller</th>\n",
              "      <th>horror</th>\n",
              "      <th>fantasy</th>\n",
              "      <th>western</th>\n",
              "      <th>film-noir</th>\n",
              "      <th>romance</th>\n",
              "      <th>war</th>\n",
              "      <th>musical</th>\n",
              "    </tr>\n",
              "    <tr>\n",
              "      <th>id_usuario</th>\n",
              "      <th></th>\n",
              "      <th></th>\n",
              "      <th></th>\n",
              "      <th></th>\n",
              "      <th></th>\n",
              "      <th></th>\n",
              "      <th></th>\n",
              "      <th></th>\n",
              "      <th></th>\n",
              "      <th></th>\n",
              "      <th></th>\n",
              "      <th></th>\n",
              "      <th></th>\n",
              "      <th></th>\n",
              "      <th></th>\n",
              "      <th></th>\n",
              "      <th></th>\n",
              "      <th></th>\n",
              "      <th></th>\n",
              "    </tr>\n",
              "  </thead>\n",
              "  <tbody>\n",
              "    <tr>\n",
              "      <th>1</th>\n",
              "      <td>5.000000</td>\n",
              "      <td>1.363636</td>\n",
              "      <td>2.500000</td>\n",
              "      <td>2.272727</td>\n",
              "      <td>0.909091</td>\n",
              "      <td>1.363636</td>\n",
              "      <td>0.454545</td>\n",
              "      <td>1.136364</td>\n",
              "      <td>1.590909</td>\n",
              "      <td>0.0</td>\n",
              "      <td>0.000000</td>\n",
              "      <td>1.136364</td>\n",
              "      <td>0.000000</td>\n",
              "      <td>0.454545</td>\n",
              "      <td>0.000000</td>\n",
              "      <td>0.000000</td>\n",
              "      <td>1.136364</td>\n",
              "      <td>0.454545</td>\n",
              "      <td>0.681818</td>\n",
              "    </tr>\n",
              "    <tr>\n",
              "      <th>2</th>\n",
              "      <td>3.200000</td>\n",
              "      <td>1.700000</td>\n",
              "      <td>0.600000</td>\n",
              "      <td>2.300000</td>\n",
              "      <td>0.000000</td>\n",
              "      <td>1.150000</td>\n",
              "      <td>0.100000</td>\n",
              "      <td>1.050000</td>\n",
              "      <td>0.150000</td>\n",
              "      <td>0.0</td>\n",
              "      <td>0.100000</td>\n",
              "      <td>1.000000</td>\n",
              "      <td>0.150000</td>\n",
              "      <td>0.150000</td>\n",
              "      <td>0.250000</td>\n",
              "      <td>0.000000</td>\n",
              "      <td>0.550000</td>\n",
              "      <td>0.550000</td>\n",
              "      <td>0.150000</td>\n",
              "    </tr>\n",
              "    <tr>\n",
              "      <th>3</th>\n",
              "      <td>3.939394</td>\n",
              "      <td>0.666667</td>\n",
              "      <td>1.212121</td>\n",
              "      <td>0.818182</td>\n",
              "      <td>0.242424</td>\n",
              "      <td>2.530303</td>\n",
              "      <td>0.363636</td>\n",
              "      <td>0.000000</td>\n",
              "      <td>0.242424</td>\n",
              "      <td>0.0</td>\n",
              "      <td>0.545455</td>\n",
              "      <td>0.742424</td>\n",
              "      <td>0.000000</td>\n",
              "      <td>0.378788</td>\n",
              "      <td>0.333333</td>\n",
              "      <td>0.121212</td>\n",
              "      <td>1.530303</td>\n",
              "      <td>0.742424</td>\n",
              "      <td>0.090909</td>\n",
              "    </tr>\n",
              "    <tr>\n",
              "      <th>4</th>\n",
              "      <td>4.026316</td>\n",
              "      <td>1.447368</td>\n",
              "      <td>1.842105</td>\n",
              "      <td>1.763158</td>\n",
              "      <td>0.394737</td>\n",
              "      <td>1.684211</td>\n",
              "      <td>0.552632</td>\n",
              "      <td>0.894737</td>\n",
              "      <td>0.657895</td>\n",
              "      <td>0.0</td>\n",
              "      <td>0.000000</td>\n",
              "      <td>1.131579</td>\n",
              "      <td>0.078947</td>\n",
              "      <td>0.605263</td>\n",
              "      <td>0.342105</td>\n",
              "      <td>0.000000</td>\n",
              "      <td>0.789474</td>\n",
              "      <td>0.394737</td>\n",
              "      <td>0.394737</td>\n",
              "    </tr>\n",
              "    <tr>\n",
              "      <th>5</th>\n",
              "      <td>3.850575</td>\n",
              "      <td>0.275862</td>\n",
              "      <td>1.195402</td>\n",
              "      <td>0.103448</td>\n",
              "      <td>0.011494</td>\n",
              "      <td>2.942529</td>\n",
              "      <td>0.540230</td>\n",
              "      <td>0.310345</td>\n",
              "      <td>0.149425</td>\n",
              "      <td>0.0</td>\n",
              "      <td>0.195402</td>\n",
              "      <td>0.643678</td>\n",
              "      <td>0.298851</td>\n",
              "      <td>0.172414</td>\n",
              "      <td>0.000000</td>\n",
              "      <td>0.057471</td>\n",
              "      <td>1.126437</td>\n",
              "      <td>0.275862</td>\n",
              "      <td>0.172414</td>\n",
              "    </tr>\n",
              "  </tbody>\n",
              "</table>\n",
              "</div>"
            ],
            "text/plain": [
              "                nota  adventure    comedy  ...   romance       war   musical\n",
              "id_usuario                                 ...                              \n",
              "1           5.000000   1.363636  2.500000  ...  1.136364  0.454545  0.681818\n",
              "2           3.200000   1.700000  0.600000  ...  0.550000  0.550000  0.150000\n",
              "3           3.939394   0.666667  1.212121  ...  1.530303  0.742424  0.090909\n",
              "4           4.026316   1.447368  1.842105  ...  0.789474  0.394737  0.394737\n",
              "5           3.850575   0.275862  1.195402  ...  1.126437  0.275862  0.172414\n",
              "\n",
              "[5 rows x 19 columns]"
            ]
          },
          "metadata": {
            "tags": []
          },
          "execution_count": 31
        }
      ]
    },
    {
      "cell_type": "code",
      "metadata": {
        "colab": {
          "base_uri": "https://localhost:8080/",
          "height": 692
        },
        "id": "Ln_T61u0p4Mt",
        "outputId": "44223b36-112e-4628-8233-fc88ffca8996"
      },
      "source": [
        "import plotly.express as px\n",
        "\n",
        "\n",
        "fig = px.box(df_features)\n",
        "gitly.show( fig, scale = 1.5 )"
      ],
      "execution_count": 32,
      "outputs": [
        {
          "output_type": "execute_result",
          "data": {
            "image/png": "[encoded data removed]",
            "text/plain": [
              "<IPython.core.display.Image object>"
            ]
          },
          "metadata": {
            "tags": []
          },
          "execution_count": 32
        }
      ]
    },
    {
      "cell_type": "markdown",
      "metadata": {
        "id": "diidr6afrDwE"
      },
      "source": [
        "# Clusterização (Kmeans)"
      ]
    },
    {
      "cell_type": "code",
      "metadata": {
        "id": "GdLUoVs3qQmK"
      },
      "source": [
        "# n_clusters?\n",
        "from sklearn.cluster import KMeans\n",
        "\n",
        "n_kmax = 10\n",
        "lista_inercia = []\n",
        "for i in range(1, n_kmax):\n",
        "    km = KMeans( n_clusters = i, init = 'random', n_init = 3, max_iter = 150, random_state=0 )\n",
        "    km.fit( df_features )\n",
        "    lista_inercia.append( km.inertia_ )\n"
      ],
      "execution_count": 33,
      "outputs": []
    },
    {
      "cell_type": "code",
      "metadata": {
        "colab": {
          "base_uri": "https://localhost:8080/",
          "height": 497
        },
        "id": "Ifa4YtHussph",
        "outputId": "720c42b3-f8b8-493b-b397-ca0c44894934"
      },
      "source": [
        "import matplotlib.pyplot as plt\n",
        "\n",
        "# plot\n",
        "plt.figure( figsize=(10,8) )\n",
        "plt.plot(range(1, n_kmax), lista_inercia, marker='o')\n",
        "plt.xlabel('Number of clusters')\n",
        "plt.ylabel('Distortion')\n",
        "plt.show()"
      ],
      "execution_count": 34,
      "outputs": [
        {
          "output_type": "display_data",
          "data": {
            "image/png": "[encoded data removed]",
            "text/plain": [
              "<Figure size 720x576 with 1 Axes>"
            ]
          },
          "metadata": {
            "tags": [],
            "needs_background": "light"
          }
        }
      ]
    },
    {
      "cell_type": "markdown",
      "metadata": {
        "id": "1g29bjnktTeK"
      },
      "source": [
        "## Kmeans k=4"
      ]
    },
    {
      "cell_type": "code",
      "metadata": {
        "colab": {
          "base_uri": "https://localhost:8080/"
        },
        "id": "NN6kB2Sas32r",
        "outputId": "74738eaa-8681-4ea1-af80-c26fe29e06dc"
      },
      "source": [
        "k = 4\n",
        "km = KMeans( n_clusters = k, init = 'random', n_init = 10, max_iter = 150, random_state=0 )\n",
        "km.fit( df_features )"
      ],
      "execution_count": 35,
      "outputs": [
        {
          "output_type": "execute_result",
          "data": {
            "text/plain": [
              "KMeans(algorithm='auto', copy_x=True, init='random', max_iter=150, n_clusters=4,\n",
              "       n_init=10, n_jobs=None, precompute_distances='auto', random_state=0,\n",
              "       tol=0.0001, verbose=0)"
            ]
          },
          "metadata": {
            "tags": []
          },
          "execution_count": 35
        }
      ]
    },
    {
      "cell_type": "code",
      "metadata": {
        "colab": {
          "base_uri": "https://localhost:8080/"
        },
        "id": "v8LuhwbQt_8B",
        "outputId": "eb86a543-5fec-4d13-9df6-852e2bdd260c"
      },
      "source": [
        "km.predict( df_features.head() )"
      ],
      "execution_count": 36,
      "outputs": [
        {
          "output_type": "execute_result",
          "data": {
            "text/plain": [
              "array([0, 2, 3, 2, 3], dtype=int32)"
            ]
          },
          "metadata": {
            "tags": []
          },
          "execution_count": 36
        }
      ]
    },
    {
      "cell_type": "code",
      "metadata": {
        "colab": {
          "base_uri": "https://localhost:8080/"
        },
        "id": "5MHWoby_t1E5",
        "outputId": "e5262b64-1904-4202-8c20-ddb6e4d8a479"
      },
      "source": [
        "teste = df_features.iloc[1,:] # usuario exemplo\n",
        "teste"
      ],
      "execution_count": 37,
      "outputs": [
        {
          "output_type": "execute_result",
          "data": {
            "text/plain": [
              "nota           3.20\n",
              "adventure      1.70\n",
              "comedy         0.60\n",
              "action         2.30\n",
              "animation      0.00\n",
              "drama          1.15\n",
              "crime          0.10\n",
              "sci-fi         1.05\n",
              "children       0.15\n",
              "documentary    0.00\n",
              "mystery        0.10\n",
              "thriller       1.00\n",
              "horror         0.15\n",
              "fantasy        0.15\n",
              "western        0.25\n",
              "film-noir      0.00\n",
              "romance        0.55\n",
              "war            0.55\n",
              "musical        0.15\n",
              "Name: 2, dtype: float64"
            ]
          },
          "metadata": {
            "tags": []
          },
          "execution_count": 37
        }
      ]
    },
    {
      "cell_type": "code",
      "metadata": {
        "colab": {
          "base_uri": "https://localhost:8080/"
        },
        "id": "ulJMHGcbuSyy",
        "outputId": "e2ab4002-f4a0-4e1d-aa37-c0646c6e9672"
      },
      "source": [
        "km.predict( [teste] )"
      ],
      "execution_count": 38,
      "outputs": [
        {
          "output_type": "execute_result",
          "data": {
            "text/plain": [
              "array([2], dtype=int32)"
            ]
          },
          "metadata": {
            "tags": []
          },
          "execution_count": 38
        }
      ]
    },
    {
      "cell_type": "markdown",
      "metadata": {
        "id": "CV8XQj1ZvFtT"
      },
      "source": [
        "### Armazenando o agrupamento de cada usuário"
      ]
    },
    {
      "cell_type": "code",
      "metadata": {
        "colab": {
          "base_uri": "https://localhost:8080/"
        },
        "id": "0QPtw_QiumDY",
        "outputId": "e822d229-a52b-419e-a709-cd17f3bc5761"
      },
      "source": [
        "y_cluster = km.predict( df_features )\n",
        "y_cluster"
      ],
      "execution_count": 39,
      "outputs": [
        {
          "output_type": "execute_result",
          "data": {
            "text/plain": [
              "array([0, 2, 3, ..., 1, 1, 0], dtype=int32)"
            ]
          },
          "metadata": {
            "tags": []
          },
          "execution_count": 39
        }
      ]
    },
    {
      "cell_type": "code",
      "metadata": {
        "colab": {
          "base_uri": "https://localhost:8080/"
        },
        "id": "R1T18F6WvZk0",
        "outputId": "dcaca4b3-a459-4fbc-ff7e-08f8484dcf75"
      },
      "source": [
        "len(y_cluster)"
      ],
      "execution_count": 40,
      "outputs": [
        {
          "output_type": "execute_result",
          "data": {
            "text/plain": [
              "22230"
            ]
          },
          "metadata": {
            "tags": []
          },
          "execution_count": 40
        }
      ]
    },
    {
      "cell_type": "code",
      "metadata": {
        "colab": {
          "base_uri": "https://localhost:8080/",
          "height": 223
        },
        "id": "33GN83Uvvg__",
        "outputId": "e6a2dadd-e40b-4f0f-e3b6-acf3d7a1fa1c"
      },
      "source": [
        "df_cluster = pd.DataFrame( data=y_cluster, columns=['grupo'], index= df_features.index  )\n",
        "df_cluster.head()"
      ],
      "execution_count": 41,
      "outputs": [
        {
          "output_type": "execute_result",
          "data": {
            "text/html": [
              "<div>\n",
              "<style scoped>\n",
              "    .dataframe tbody tr th:only-of-type {\n",
              "        vertical-align: middle;\n",
              "    }\n",
              "\n",
              "    .dataframe tbody tr th {\n",
              "        vertical-align: top;\n",
              "    }\n",
              "\n",
              "    .dataframe thead th {\n",
              "        text-align: right;\n",
              "    }\n",
              "</style>\n",
              "<table border=\"1\" class=\"dataframe\">\n",
              "  <thead>\n",
              "    <tr style=\"text-align: right;\">\n",
              "      <th></th>\n",
              "      <th>grupo</th>\n",
              "    </tr>\n",
              "    <tr>\n",
              "      <th>id_usuario</th>\n",
              "      <th></th>\n",
              "    </tr>\n",
              "  </thead>\n",
              "  <tbody>\n",
              "    <tr>\n",
              "      <th>1</th>\n",
              "      <td>0</td>\n",
              "    </tr>\n",
              "    <tr>\n",
              "      <th>2</th>\n",
              "      <td>2</td>\n",
              "    </tr>\n",
              "    <tr>\n",
              "      <th>3</th>\n",
              "      <td>3</td>\n",
              "    </tr>\n",
              "    <tr>\n",
              "      <th>4</th>\n",
              "      <td>2</td>\n",
              "    </tr>\n",
              "    <tr>\n",
              "      <th>5</th>\n",
              "      <td>3</td>\n",
              "    </tr>\n",
              "  </tbody>\n",
              "</table>\n",
              "</div>"
            ],
            "text/plain": [
              "            grupo\n",
              "id_usuario       \n",
              "1               0\n",
              "2               2\n",
              "3               3\n",
              "4               2\n",
              "5               3"
            ]
          },
          "metadata": {
            "tags": []
          },
          "execution_count": 41
        }
      ]
    },
    {
      "cell_type": "code",
      "metadata": {
        "colab": {
          "base_uri": "https://localhost:8080/",
          "height": 240
        },
        "id": "k-6jPM11wITm",
        "outputId": "18531f70-8a25-4935-8190-0fe5280312ce"
      },
      "source": [
        "df_grupos = pd.merge( df_cluster, df_features, how='left', left_index = True, right_index=True )\n",
        "df_grupos.head()"
      ],
      "execution_count": 42,
      "outputs": [
        {
          "output_type": "execute_result",
          "data": {
            "text/html": [
              "<div>\n",
              "<style scoped>\n",
              "    .dataframe tbody tr th:only-of-type {\n",
              "        vertical-align: middle;\n",
              "    }\n",
              "\n",
              "    .dataframe tbody tr th {\n",
              "        vertical-align: top;\n",
              "    }\n",
              "\n",
              "    .dataframe thead th {\n",
              "        text-align: right;\n",
              "    }\n",
              "</style>\n",
              "<table border=\"1\" class=\"dataframe\">\n",
              "  <thead>\n",
              "    <tr style=\"text-align: right;\">\n",
              "      <th></th>\n",
              "      <th>grupo</th>\n",
              "      <th>nota</th>\n",
              "      <th>adventure</th>\n",
              "      <th>comedy</th>\n",
              "      <th>action</th>\n",
              "      <th>animation</th>\n",
              "      <th>drama</th>\n",
              "      <th>crime</th>\n",
              "      <th>sci-fi</th>\n",
              "      <th>children</th>\n",
              "      <th>documentary</th>\n",
              "      <th>mystery</th>\n",
              "      <th>thriller</th>\n",
              "      <th>horror</th>\n",
              "      <th>fantasy</th>\n",
              "      <th>western</th>\n",
              "      <th>film-noir</th>\n",
              "      <th>romance</th>\n",
              "      <th>war</th>\n",
              "      <th>musical</th>\n",
              "    </tr>\n",
              "    <tr>\n",
              "      <th>id_usuario</th>\n",
              "      <th></th>\n",
              "      <th></th>\n",
              "      <th></th>\n",
              "      <th></th>\n",
              "      <th></th>\n",
              "      <th></th>\n",
              "      <th></th>\n",
              "      <th></th>\n",
              "      <th></th>\n",
              "      <th></th>\n",
              "      <th></th>\n",
              "      <th></th>\n",
              "      <th></th>\n",
              "      <th></th>\n",
              "      <th></th>\n",
              "      <th></th>\n",
              "      <th></th>\n",
              "      <th></th>\n",
              "      <th></th>\n",
              "      <th></th>\n",
              "    </tr>\n",
              "  </thead>\n",
              "  <tbody>\n",
              "    <tr>\n",
              "      <th>1</th>\n",
              "      <td>0</td>\n",
              "      <td>5.000000</td>\n",
              "      <td>1.363636</td>\n",
              "      <td>2.500000</td>\n",
              "      <td>2.272727</td>\n",
              "      <td>0.909091</td>\n",
              "      <td>1.363636</td>\n",
              "      <td>0.454545</td>\n",
              "      <td>1.136364</td>\n",
              "      <td>1.590909</td>\n",
              "      <td>0.0</td>\n",
              "      <td>0.000000</td>\n",
              "      <td>1.136364</td>\n",
              "      <td>0.000000</td>\n",
              "      <td>0.454545</td>\n",
              "      <td>0.000000</td>\n",
              "      <td>0.000000</td>\n",
              "      <td>1.136364</td>\n",
              "      <td>0.454545</td>\n",
              "      <td>0.681818</td>\n",
              "    </tr>\n",
              "    <tr>\n",
              "      <th>2</th>\n",
              "      <td>2</td>\n",
              "      <td>3.200000</td>\n",
              "      <td>1.700000</td>\n",
              "      <td>0.600000</td>\n",
              "      <td>2.300000</td>\n",
              "      <td>0.000000</td>\n",
              "      <td>1.150000</td>\n",
              "      <td>0.100000</td>\n",
              "      <td>1.050000</td>\n",
              "      <td>0.150000</td>\n",
              "      <td>0.0</td>\n",
              "      <td>0.100000</td>\n",
              "      <td>1.000000</td>\n",
              "      <td>0.150000</td>\n",
              "      <td>0.150000</td>\n",
              "      <td>0.250000</td>\n",
              "      <td>0.000000</td>\n",
              "      <td>0.550000</td>\n",
              "      <td>0.550000</td>\n",
              "      <td>0.150000</td>\n",
              "    </tr>\n",
              "    <tr>\n",
              "      <th>3</th>\n",
              "      <td>3</td>\n",
              "      <td>3.939394</td>\n",
              "      <td>0.666667</td>\n",
              "      <td>1.212121</td>\n",
              "      <td>0.818182</td>\n",
              "      <td>0.242424</td>\n",
              "      <td>2.530303</td>\n",
              "      <td>0.363636</td>\n",
              "      <td>0.000000</td>\n",
              "      <td>0.242424</td>\n",
              "      <td>0.0</td>\n",
              "      <td>0.545455</td>\n",
              "      <td>0.742424</td>\n",
              "      <td>0.000000</td>\n",
              "      <td>0.378788</td>\n",
              "      <td>0.333333</td>\n",
              "      <td>0.121212</td>\n",
              "      <td>1.530303</td>\n",
              "      <td>0.742424</td>\n",
              "      <td>0.090909</td>\n",
              "    </tr>\n",
              "    <tr>\n",
              "      <th>4</th>\n",
              "      <td>2</td>\n",
              "      <td>4.026316</td>\n",
              "      <td>1.447368</td>\n",
              "      <td>1.842105</td>\n",
              "      <td>1.763158</td>\n",
              "      <td>0.394737</td>\n",
              "      <td>1.684211</td>\n",
              "      <td>0.552632</td>\n",
              "      <td>0.894737</td>\n",
              "      <td>0.657895</td>\n",
              "      <td>0.0</td>\n",
              "      <td>0.000000</td>\n",
              "      <td>1.131579</td>\n",
              "      <td>0.078947</td>\n",
              "      <td>0.605263</td>\n",
              "      <td>0.342105</td>\n",
              "      <td>0.000000</td>\n",
              "      <td>0.789474</td>\n",
              "      <td>0.394737</td>\n",
              "      <td>0.394737</td>\n",
              "    </tr>\n",
              "    <tr>\n",
              "      <th>5</th>\n",
              "      <td>3</td>\n",
              "      <td>3.850575</td>\n",
              "      <td>0.275862</td>\n",
              "      <td>1.195402</td>\n",
              "      <td>0.103448</td>\n",
              "      <td>0.011494</td>\n",
              "      <td>2.942529</td>\n",
              "      <td>0.540230</td>\n",
              "      <td>0.310345</td>\n",
              "      <td>0.149425</td>\n",
              "      <td>0.0</td>\n",
              "      <td>0.195402</td>\n",
              "      <td>0.643678</td>\n",
              "      <td>0.298851</td>\n",
              "      <td>0.172414</td>\n",
              "      <td>0.000000</td>\n",
              "      <td>0.057471</td>\n",
              "      <td>1.126437</td>\n",
              "      <td>0.275862</td>\n",
              "      <td>0.172414</td>\n",
              "    </tr>\n",
              "  </tbody>\n",
              "</table>\n",
              "</div>"
            ],
            "text/plain": [
              "            grupo      nota  adventure  ...   romance       war   musical\n",
              "id_usuario                              ...                              \n",
              "1               0  5.000000   1.363636  ...  1.136364  0.454545  0.681818\n",
              "2               2  3.200000   1.700000  ...  0.550000  0.550000  0.150000\n",
              "3               3  3.939394   0.666667  ...  1.530303  0.742424  0.090909\n",
              "4               2  4.026316   1.447368  ...  0.789474  0.394737  0.394737\n",
              "5               3  3.850575   0.275862  ...  1.126437  0.275862  0.172414\n",
              "\n",
              "[5 rows x 20 columns]"
            ]
          },
          "metadata": {
            "tags": []
          },
          "execution_count": 42
        }
      ]
    },
    {
      "cell_type": "code",
      "metadata": {
        "colab": {
          "base_uri": "https://localhost:8080/",
          "height": 692
        },
        "id": "GTw1XH00wzOd",
        "outputId": "1c7365e1-cb81-4197-b0a9-1acc321bd445"
      },
      "source": [
        "fig = px.box(df_grupos, color='grupo')\n",
        "gitly.show( fig, scale = 1.5 )"
      ],
      "execution_count": 43,
      "outputs": [
        {
          "output_type": "execute_result",
          "data": {
            "image/png": "[encoded data removed]",
            "text/plain": [
              "<IPython.core.display.Image object>"
            ]
          },
          "metadata": {
            "tags": []
          },
          "execution_count": 43
        }
      ]
    },
    {
      "cell_type": "code",
      "metadata": {
        "colab": {
          "base_uri": "https://localhost:8080/",
          "height": 194
        },
        "id": "ceRRzcon7i0i",
        "outputId": "cdcb5c3c-8351-4054-f2fe-2a29fa9cd206"
      },
      "source": [
        "df_rate_grupo = pd.merge( df_rate, df_cluster, how='left', left_on='id_usuario', right_index=True )\n",
        "df_rate_grupo.head()"
      ],
      "execution_count": 44,
      "outputs": [
        {
          "output_type": "execute_result",
          "data": {
            "text/html": [
              "<div>\n",
              "<style scoped>\n",
              "    .dataframe tbody tr th:only-of-type {\n",
              "        vertical-align: middle;\n",
              "    }\n",
              "\n",
              "    .dataframe tbody tr th {\n",
              "        vertical-align: top;\n",
              "    }\n",
              "\n",
              "    .dataframe thead th {\n",
              "        text-align: right;\n",
              "    }\n",
              "</style>\n",
              "<table border=\"1\" class=\"dataframe\">\n",
              "  <thead>\n",
              "    <tr style=\"text-align: right;\">\n",
              "      <th></th>\n",
              "      <th>id_usuario</th>\n",
              "      <th>id_filmes</th>\n",
              "      <th>nota</th>\n",
              "      <th>timestamp</th>\n",
              "      <th>grupo</th>\n",
              "    </tr>\n",
              "  </thead>\n",
              "  <tbody>\n",
              "    <tr>\n",
              "      <th>0</th>\n",
              "      <td>1</td>\n",
              "      <td>122</td>\n",
              "      <td>5.0</td>\n",
              "      <td>838985046</td>\n",
              "      <td>0</td>\n",
              "    </tr>\n",
              "    <tr>\n",
              "      <th>1</th>\n",
              "      <td>1</td>\n",
              "      <td>185</td>\n",
              "      <td>5.0</td>\n",
              "      <td>838983525</td>\n",
              "      <td>0</td>\n",
              "    </tr>\n",
              "    <tr>\n",
              "      <th>2</th>\n",
              "      <td>1</td>\n",
              "      <td>231</td>\n",
              "      <td>5.0</td>\n",
              "      <td>838983392</td>\n",
              "      <td>0</td>\n",
              "    </tr>\n",
              "    <tr>\n",
              "      <th>3</th>\n",
              "      <td>1</td>\n",
              "      <td>292</td>\n",
              "      <td>5.0</td>\n",
              "      <td>838983421</td>\n",
              "      <td>0</td>\n",
              "    </tr>\n",
              "    <tr>\n",
              "      <th>4</th>\n",
              "      <td>1</td>\n",
              "      <td>316</td>\n",
              "      <td>5.0</td>\n",
              "      <td>838983392</td>\n",
              "      <td>0</td>\n",
              "    </tr>\n",
              "  </tbody>\n",
              "</table>\n",
              "</div>"
            ],
            "text/plain": [
              "   id_usuario  id_filmes  nota  timestamp  grupo\n",
              "0           1        122   5.0  838985046      0\n",
              "1           1        185   5.0  838983525      0\n",
              "2           1        231   5.0  838983392      0\n",
              "3           1        292   5.0  838983421      0\n",
              "4           1        316   5.0  838983392      0"
            ]
          },
          "metadata": {
            "tags": []
          },
          "execution_count": 44
        }
      ]
    },
    {
      "cell_type": "code",
      "metadata": {
        "colab": {
          "base_uri": "https://localhost:8080/",
          "height": 194
        },
        "id": "IbfixEfh8W5x",
        "outputId": "0154b5fd-e9cb-4a11-af93-65522977cd88"
      },
      "source": [
        "df_rate_grupo.tail()"
      ],
      "execution_count": 45,
      "outputs": [
        {
          "output_type": "execute_result",
          "data": {
            "text/html": [
              "<div>\n",
              "<style scoped>\n",
              "    .dataframe tbody tr th:only-of-type {\n",
              "        vertical-align: middle;\n",
              "    }\n",
              "\n",
              "    .dataframe tbody tr th {\n",
              "        vertical-align: top;\n",
              "    }\n",
              "\n",
              "    .dataframe thead th {\n",
              "        text-align: right;\n",
              "    }\n",
              "</style>\n",
              "<table border=\"1\" class=\"dataframe\">\n",
              "  <thead>\n",
              "    <tr style=\"text-align: right;\">\n",
              "      <th></th>\n",
              "      <th>id_usuario</th>\n",
              "      <th>id_filmes</th>\n",
              "      <th>nota</th>\n",
              "      <th>timestamp</th>\n",
              "      <th>grupo</th>\n",
              "    </tr>\n",
              "  </thead>\n",
              "  <tbody>\n",
              "    <tr>\n",
              "      <th>3153676</th>\n",
              "      <td>22815</td>\n",
              "      <td>49272</td>\n",
              "      <td>3.0</td>\n",
              "      <td>1179937221</td>\n",
              "      <td>0</td>\n",
              "    </tr>\n",
              "    <tr>\n",
              "      <th>3153677</th>\n",
              "      <td>22815</td>\n",
              "      <td>49274</td>\n",
              "      <td>4.5</td>\n",
              "      <td>1170442231</td>\n",
              "      <td>0</td>\n",
              "    </tr>\n",
              "    <tr>\n",
              "      <th>3153678</th>\n",
              "      <td>22815</td>\n",
              "      <td>49286</td>\n",
              "      <td>4.0</td>\n",
              "      <td>1170359249</td>\n",
              "      <td>0</td>\n",
              "    </tr>\n",
              "    <tr>\n",
              "      <th>3153679</th>\n",
              "      <td>22815</td>\n",
              "      <td>50158</td>\n",
              "      <td>3.0</td>\n",
              "      <td>1170362089</td>\n",
              "      <td>0</td>\n",
              "    </tr>\n",
              "    <tr>\n",
              "      <th>3153680</th>\n",
              "      <td>22815</td>\n",
              "      <td>51662</td>\n",
              "      <td>3.5</td>\n",
              "      <td>1174575091</td>\n",
              "      <td>0</td>\n",
              "    </tr>\n",
              "  </tbody>\n",
              "</table>\n",
              "</div>"
            ],
            "text/plain": [
              "         id_usuario  id_filmes  nota   timestamp  grupo\n",
              "3153676       22815      49272   3.0  1179937221      0\n",
              "3153677       22815      49274   4.5  1170442231      0\n",
              "3153678       22815      49286   4.0  1170359249      0\n",
              "3153679       22815      50158   3.0  1170362089      0\n",
              "3153680       22815      51662   3.5  1174575091      0"
            ]
          },
          "metadata": {
            "tags": []
          },
          "execution_count": 45
        }
      ]
    },
    {
      "cell_type": "code",
      "metadata": {
        "colab": {
          "base_uri": "https://localhost:8080/"
        },
        "id": "BkRCG_LI8hof",
        "outputId": "f1e15bad-9f25-4805-ae16-f463456a568e"
      },
      "source": [
        "\n",
        "dict_agrupamento = {}\n",
        "for i in range(0,k):\n",
        "    dict_agrupamento[i] = df_rate_grupo[ df_rate_grupo['grupo'] == i ]\n",
        "    print(dict_agrupamento[i].head(3))\n"
      ],
      "execution_count": 46,
      "outputs": [
        {
          "output_type": "stream",
          "text": [
            "   id_usuario  id_filmes  nota  timestamp  grupo\n",
            "0           1        122   5.0  838985046      0\n",
            "1           1        185   5.0  838983525      0\n",
            "2           1        231   5.0  838983392      0\n",
            "     id_usuario  id_filmes  nota   timestamp  grupo\n",
            "242           7         32   4.0  1049820474      1\n",
            "243           7         50   4.0  1050329529      1\n",
            "244           7        101   4.5  1054292314      1\n",
            "    id_usuario  id_filmes  nota  timestamp  grupo\n",
            "22           2        110   5.0  868245777      2\n",
            "23           2        151   3.0  868246450      2\n",
            "24           2        260   5.0  868244562      2\n",
            "    id_usuario  id_filmes  nota   timestamp  grupo\n",
            "42           3        110   4.5  1136075500      3\n",
            "43           3        151   4.5  1133571026      3\n",
            "44           3        213   5.0  1136075789      3\n"
          ],
          "name": "stdout"
        }
      ]
    },
    {
      "cell_type": "code",
      "metadata": {
        "id": "IE2Gt6gU_BDW"
      },
      "source": [
        "n_minimo = 500"
      ],
      "execution_count": 47,
      "outputs": []
    },
    {
      "cell_type": "code",
      "metadata": {
        "colab": {
          "base_uri": "https://localhost:8080/"
        },
        "id": "LuwBIQQj-lDJ",
        "outputId": "095a727c-6f7c-4751-b32b-1fc427ffa07e"
      },
      "source": [
        "# Lista de filmes assistidos mais de n_minimo vezes\n",
        "df_temp = dict_agrupamento[0].id_filmes.value_counts()\n",
        "lista_filmes_minimo = list( df_temp[ df_temp.gt(n_minimo)].index )\n",
        "print(lista_filmes_minimo)\n"
      ],
      "execution_count": 48,
      "outputs": [
        {
          "output_type": "stream",
          "text": [
            "[1, 356, 588, 364, 595, 480, 260, 1270, 1073, 34, 1197, 1210, 500, 1265, 597, 780, 539, 593, 296, 1196, 39, 1580, 150, 2858, 1136, 318, 367, 1198, 592, 1097, 344, 2396, 2355, 586, 2571, 357, 3114, 590, 457, 380, 2716, 587, 594, 1307, 919, 736, 527, 589, 4306, 141, 377, 648, 110, 2683, 2918, 608, 339, 2081, 1721, 1923, 1517, 231, 2762, 1028, 1968, 2628, 2987, 1784, 17, 317, 2797, 2706, 708, 440, 2174, 551, 104, 1079, 62, 1291, 2, 1380, 2997, 4886, 11, 4993, 32, 1259, 48, 1393, 223, 1220, 2054, 2791, 153, 788, 497, 50, 2028, 1777, 1080, 2502, 783, 1148, 1035, 5952, 6377, 5, 2291, 596, 1485, 733, 7, 2080, 3751, 1641, 912, 1288, 410, 1240, 21, 858, 19, 1704, 2302, 2700, 661, 2321, 2011, 1394, 3996, 3793, 329, 2959, 3, 2406, 2100, 3578, 1682, 1961, 2012, 6539, 1022, 1282, 47, 2804, 1246, 1278, 2324, 316, 1101, 2078, 2671, 368, 520, 4896, 5349, 4973, 7153, 543, 4963, 3253, 1036, 2599, 1500, 10, 158, 1193, 1527, 3052, 2115, 2657, 3897, 1356, 745, 3481]\n"
          ],
          "name": "stdout"
        }
      ]
    },
    {
      "cell_type": "code",
      "metadata": {
        "id": "MaY8JGD-ArrI"
      },
      "source": [
        "# filtrando e deixando apenas filmes assistidos mais de n_minimo vezes\n",
        "dict_agrupamento[0] = dict_agrupamento[0][ dict_agrupamento[0].id_filmes.isin(lista_filmes_minimo) ]"
      ],
      "execution_count": 49,
      "outputs": []
    },
    {
      "cell_type": "code",
      "metadata": {
        "colab": {
          "base_uri": "https://localhost:8080/",
          "height": 135
        },
        "id": "5fjCCMqN9RFZ",
        "outputId": "57b11b82-6f2d-4506-b708-a80e9079fd57"
      },
      "source": [
        "df_sug = {}\n",
        "df_sug[0] = dict_agrupamento[0].groupby( by='id_filmes' ).mean().sort_values(by='nota', ascending=False).head(200)\n",
        "df_sug[0].head(2)"
      ],
      "execution_count": 50,
      "outputs": [
        {
          "output_type": "execute_result",
          "data": {
            "text/html": [
              "<div>\n",
              "<style scoped>\n",
              "    .dataframe tbody tr th:only-of-type {\n",
              "        vertical-align: middle;\n",
              "    }\n",
              "\n",
              "    .dataframe tbody tr th {\n",
              "        vertical-align: top;\n",
              "    }\n",
              "\n",
              "    .dataframe thead th {\n",
              "        text-align: right;\n",
              "    }\n",
              "</style>\n",
              "<table border=\"1\" class=\"dataframe\">\n",
              "  <thead>\n",
              "    <tr style=\"text-align: right;\">\n",
              "      <th></th>\n",
              "      <th>id_usuario</th>\n",
              "      <th>nota</th>\n",
              "      <th>timestamp</th>\n",
              "      <th>grupo</th>\n",
              "    </tr>\n",
              "    <tr>\n",
              "      <th>id_filmes</th>\n",
              "      <th></th>\n",
              "      <th></th>\n",
              "      <th></th>\n",
              "      <th></th>\n",
              "    </tr>\n",
              "  </thead>\n",
              "  <tbody>\n",
              "    <tr>\n",
              "      <th>318</th>\n",
              "      <td>11402.576670</td>\n",
              "      <td>4.531044</td>\n",
              "      <td>1.014145e+09</td>\n",
              "      <td>0</td>\n",
              "    </tr>\n",
              "    <tr>\n",
              "      <th>527</th>\n",
              "      <td>11157.389849</td>\n",
              "      <td>4.485421</td>\n",
              "      <td>9.946988e+08</td>\n",
              "      <td>0</td>\n",
              "    </tr>\n",
              "  </tbody>\n",
              "</table>\n",
              "</div>"
            ],
            "text/plain": [
              "             id_usuario      nota     timestamp  grupo\n",
              "id_filmes                                             \n",
              "318        11402.576670  4.531044  1.014145e+09      0\n",
              "527        11157.389849  4.485421  9.946988e+08      0"
            ]
          },
          "metadata": {
            "tags": []
          },
          "execution_count": 50
        }
      ]
    },
    {
      "cell_type": "code",
      "metadata": {
        "colab": {
          "base_uri": "https://localhost:8080/",
          "height": 340
        },
        "id": "5Ra91gpdCE1M",
        "outputId": "565c423c-40cf-4f70-c639-e2d3fb70c2d8"
      },
      "source": [
        "df_final = {}\n",
        "df_final[0] = pd.merge( df_sug[0][['nota', 'grupo']], df_filmes, how='left', left_index=True, right_on='id_filmes' )\n",
        "df_final[0].head(10)"
      ],
      "execution_count": 51,
      "outputs": [
        {
          "output_type": "execute_result",
          "data": {
            "text/html": [
              "<div>\n",
              "<style scoped>\n",
              "    .dataframe tbody tr th:only-of-type {\n",
              "        vertical-align: middle;\n",
              "    }\n",
              "\n",
              "    .dataframe tbody tr th {\n",
              "        vertical-align: top;\n",
              "    }\n",
              "\n",
              "    .dataframe thead th {\n",
              "        text-align: right;\n",
              "    }\n",
              "</style>\n",
              "<table border=\"1\" class=\"dataframe\">\n",
              "  <thead>\n",
              "    <tr style=\"text-align: right;\">\n",
              "      <th></th>\n",
              "      <th>nota</th>\n",
              "      <th>grupo</th>\n",
              "      <th>id_filmes</th>\n",
              "      <th>nomes</th>\n",
              "      <th>categorias</th>\n",
              "    </tr>\n",
              "  </thead>\n",
              "  <tbody>\n",
              "    <tr>\n",
              "      <th>315</th>\n",
              "      <td>4.531044</td>\n",
              "      <td>0</td>\n",
              "      <td>318</td>\n",
              "      <td>Shawshank Redemption, The (1994)</td>\n",
              "      <td>Drama</td>\n",
              "    </tr>\n",
              "    <tr>\n",
              "      <th>523</th>\n",
              "      <td>4.485421</td>\n",
              "      <td>0</td>\n",
              "      <td>527</td>\n",
              "      <td>Schindler's List (1993)</td>\n",
              "      <td>Drama|War</td>\n",
              "    </tr>\n",
              "    <tr>\n",
              "      <th>732</th>\n",
              "      <td>4.481151</td>\n",
              "      <td>0</td>\n",
              "      <td>745</td>\n",
              "      <td>Wallace &amp; Gromit: A Close Shave (1995)</td>\n",
              "      <td>Animation|Children|Comedy</td>\n",
              "    </tr>\n",
              "    <tr>\n",
              "      <th>49</th>\n",
              "      <td>4.456652</td>\n",
              "      <td>0</td>\n",
              "      <td>50</td>\n",
              "      <td>Usual Suspects, The (1995)</td>\n",
              "      <td>Crime|Mystery|Thriller</td>\n",
              "    </tr>\n",
              "    <tr>\n",
              "      <th>4879</th>\n",
              "      <td>4.436433</td>\n",
              "      <td>0</td>\n",
              "      <td>4973</td>\n",
              "      <td>Amelie (Fabuleux destin d'Amélie Poulain, Le) ...</td>\n",
              "      <td>Comedy|Romance</td>\n",
              "    </tr>\n",
              "    <tr>\n",
              "      <th>1125</th>\n",
              "      <td>4.428244</td>\n",
              "      <td>0</td>\n",
              "      <td>1148</td>\n",
              "      <td>Wallace &amp; Gromit: The Wrong Trousers (1993)</td>\n",
              "      <td>Animation|Children|Comedy|Crime</td>\n",
              "    </tr>\n",
              "    <tr>\n",
              "      <th>2240</th>\n",
              "      <td>4.426063</td>\n",
              "      <td>0</td>\n",
              "      <td>2324</td>\n",
              "      <td>Life Is Beautiful (La Vita è bella) (1997)</td>\n",
              "      <td>Comedy|Drama|Romance|War</td>\n",
              "    </tr>\n",
              "    <tr>\n",
              "      <th>895</th>\n",
              "      <td>4.375000</td>\n",
              "      <td>0</td>\n",
              "      <td>912</td>\n",
              "      <td>Casablanca (1942)</td>\n",
              "      <td>Drama|Romance</td>\n",
              "    </tr>\n",
              "    <tr>\n",
              "      <th>1172</th>\n",
              "      <td>4.368093</td>\n",
              "      <td>0</td>\n",
              "      <td>1197</td>\n",
              "      <td>Princess Bride, The (1987)</td>\n",
              "      <td>Action|Adventure|Comedy|Fantasy|Romance</td>\n",
              "    </tr>\n",
              "    <tr>\n",
              "      <th>1113</th>\n",
              "      <td>4.357944</td>\n",
              "      <td>0</td>\n",
              "      <td>1136</td>\n",
              "      <td>Monty Python and the Holy Grail (1975)</td>\n",
              "      <td>Comedy</td>\n",
              "    </tr>\n",
              "  </tbody>\n",
              "</table>\n",
              "</div>"
            ],
            "text/plain": [
              "          nota  ...                               categorias\n",
              "315   4.531044  ...                                    Drama\n",
              "523   4.485421  ...                                Drama|War\n",
              "732   4.481151  ...                Animation|Children|Comedy\n",
              "49    4.456652  ...                   Crime|Mystery|Thriller\n",
              "4879  4.436433  ...                           Comedy|Romance\n",
              "1125  4.428244  ...          Animation|Children|Comedy|Crime\n",
              "2240  4.426063  ...                 Comedy|Drama|Romance|War\n",
              "895   4.375000  ...                            Drama|Romance\n",
              "1172  4.368093  ...  Action|Adventure|Comedy|Fantasy|Romance\n",
              "1113  4.357944  ...                                   Comedy\n",
              "\n",
              "[10 rows x 5 columns]"
            ]
          },
          "metadata": {
            "tags": []
          },
          "execution_count": 51
        }
      ]
    },
    {
      "cell_type": "markdown",
      "metadata": {
        "id": "Sny9Ao20DNou"
      },
      "source": [
        "# Criando um for para automatizar"
      ]
    },
    {
      "cell_type": "code",
      "metadata": {
        "colab": {
          "base_uri": "https://localhost:8080/"
        },
        "id": "56ACyJRPCExS",
        "outputId": "d418c054-07b9-474d-d37c-15b283147dd6"
      },
      "source": [
        "n_minimo_for = 500\n",
        "n_top = 200\n",
        "df_sug = {}\n",
        "df_final = {}\n",
        "for i in range(0,k):\n",
        "    # Lista de filmes assistidos mais de n_minimo vezes\n",
        "    df_temp = dict_agrupamento[i].id_filmes.value_counts()\n",
        "    lista_filmes_minimo = list( df_temp[ df_temp.gt(n_minimo_for)].index )\n",
        "    \n",
        "    # filtrando e deixando apenas filmes assistidos mais de n_minimo vezes\n",
        "    dict_agrupamento[i] = dict_agrupamento[i][ dict_agrupamento[i].id_filmes.isin(lista_filmes_minimo) ]\n",
        "    df_sug[i] = dict_agrupamento[i].groupby( by='id_filmes' ).mean().sort_values(by='nota', ascending=False).head(n_top)\n",
        "\n",
        "    df_final[i] = pd.merge( df_sug[i][['nota', 'grupo']], df_filmes, how='left', left_index=True, right_on='id_filmes' )\n",
        "    print(df_final[i][['nota', 'nomes']].head(7))"
      ],
      "execution_count": 52,
      "outputs": [
        {
          "output_type": "stream",
          "text": [
            "          nota                                              nomes\n",
            "315   4.531044                   Shawshank Redemption, The (1994)\n",
            "523   4.485421                            Schindler's List (1993)\n",
            "732   4.481151             Wallace & Gromit: A Close Shave (1995)\n",
            "49    4.456652                         Usual Suspects, The (1995)\n",
            "4879  4.436433  Amelie (Fabuleux destin d'Amélie Poulain, Le) ...\n",
            "1125  4.428244        Wallace & Gromit: The Wrong Trousers (1993)\n",
            "2240  4.426063         Life Is Beautiful (La Vita è bella) (1997)\n",
            "          nota                                              nomes\n",
            "315   4.312822                   Shawshank Redemption, The (1994)\n",
            "843   4.264250                              Godfather, The (1972)\n",
            "49    4.241181                         Usual Suspects, The (1995)\n",
            "523   4.171766                            Schindler's List (1993)\n",
            "1195  4.146421                     Godfather: Part II, The (1974)\n",
            "1935  4.108527        Seven Samurai (Shichinin no samurai) (1954)\n",
            "737   4.106026  Dr. Strangelove or: How I Learned to Stop Worr...\n",
            "          nota                                              nomes\n",
            "315   4.560991                   Shawshank Redemption, The (1994)\n",
            "2487  4.525731                                 Matrix, The (1999)\n",
            "49    4.520294                         Usual Suspects, The (1995)\n",
            "257   4.471833  Star Wars: Episode IV - A New Hope (a.k.a. Sta...\n",
            "1173  4.470473  Raiders of the Lost Ark (Indiana Jones and the...\n",
            "1171  4.450570  Star Wars: Episode V - The Empire Strikes Back...\n",
            "843   4.422882                              Godfather, The (1972)\n",
            "          nota                                   nomes\n",
            "843   4.552216                   Godfather, The (1972)\n",
            "315   4.502171        Shawshank Redemption, The (1994)\n",
            "1181  4.499554            To Kill a Mockingbird (1962)\n",
            "523   4.495612                 Schindler's List (1993)\n",
            "895   4.494550                       Casablanca (1942)\n",
            "1186  4.488095                   Third Man, The (1949)\n",
            "1169  4.486730  One Flew Over the Cuckoo's Nest (1975)\n"
          ],
          "name": "stdout"
        }
      ]
    },
    {
      "cell_type": "markdown",
      "metadata": {
        "id": "puE_acgQ5VF1"
      },
      "source": [
        "# Como faço uma sugestão?\n"
      ]
    },
    {
      "cell_type": "code",
      "metadata": {
        "colab": {
          "base_uri": "https://localhost:8080/",
          "height": 194
        },
        "id": "o1jStk9jxu5x",
        "outputId": "7280c701-48f6-4095-d11b-a2082ac678ef"
      },
      "source": [
        "indice_usuario_x = 215\n",
        "\n",
        "df_usuario_x = df_rate[ df_rate['id_usuario'] == indice_usuario_x ]\n",
        "df_usuario_x.head()"
      ],
      "execution_count": 53,
      "outputs": [
        {
          "output_type": "execute_result",
          "data": {
            "text/html": [
              "<div>\n",
              "<style scoped>\n",
              "    .dataframe tbody tr th:only-of-type {\n",
              "        vertical-align: middle;\n",
              "    }\n",
              "\n",
              "    .dataframe tbody tr th {\n",
              "        vertical-align: top;\n",
              "    }\n",
              "\n",
              "    .dataframe thead th {\n",
              "        text-align: right;\n",
              "    }\n",
              "</style>\n",
              "<table border=\"1\" class=\"dataframe\">\n",
              "  <thead>\n",
              "    <tr style=\"text-align: right;\">\n",
              "      <th></th>\n",
              "      <th>id_usuario</th>\n",
              "      <th>id_filmes</th>\n",
              "      <th>nota</th>\n",
              "      <th>timestamp</th>\n",
              "    </tr>\n",
              "  </thead>\n",
              "  <tbody>\n",
              "    <tr>\n",
              "      <th>27868</th>\n",
              "      <td>215</td>\n",
              "      <td>1</td>\n",
              "      <td>5.0</td>\n",
              "      <td>949015769</td>\n",
              "    </tr>\n",
              "    <tr>\n",
              "      <th>27869</th>\n",
              "      <td>215</td>\n",
              "      <td>2</td>\n",
              "      <td>4.0</td>\n",
              "      <td>949008881</td>\n",
              "    </tr>\n",
              "    <tr>\n",
              "      <th>27870</th>\n",
              "      <td>215</td>\n",
              "      <td>6</td>\n",
              "      <td>5.0</td>\n",
              "      <td>948259719</td>\n",
              "    </tr>\n",
              "    <tr>\n",
              "      <th>27871</th>\n",
              "      <td>215</td>\n",
              "      <td>10</td>\n",
              "      <td>4.0</td>\n",
              "      <td>949008811</td>\n",
              "    </tr>\n",
              "    <tr>\n",
              "      <th>27872</th>\n",
              "      <td>215</td>\n",
              "      <td>11</td>\n",
              "      <td>4.0</td>\n",
              "      <td>949016452</td>\n",
              "    </tr>\n",
              "  </tbody>\n",
              "</table>\n",
              "</div>"
            ],
            "text/plain": [
              "       id_usuario  id_filmes  nota  timestamp\n",
              "27868         215          1   5.0  949015769\n",
              "27869         215          2   4.0  949008881\n",
              "27870         215          6   5.0  948259719\n",
              "27871         215         10   4.0  949008811\n",
              "27872         215         11   4.0  949016452"
            ]
          },
          "metadata": {
            "tags": []
          },
          "execution_count": 53
        }
      ]
    },
    {
      "cell_type": "code",
      "metadata": {
        "colab": {
          "base_uri": "https://localhost:8080/",
          "height": 332
        },
        "id": "uh97NhHWGMAl",
        "outputId": "85c434af-f656-4e62-abc7-dd691e9b5b35"
      },
      "source": [
        "df_pre_sug = pd.merge( df_usuario_x, df_filmes_cat, how='left', left_on='id_filmes', right_on='id_filmes' )\n",
        "df_pre_sug.head()"
      ],
      "execution_count": 54,
      "outputs": [
        {
          "output_type": "execute_result",
          "data": {
            "text/html": [
              "<div>\n",
              "<style scoped>\n",
              "    .dataframe tbody tr th:only-of-type {\n",
              "        vertical-align: middle;\n",
              "    }\n",
              "\n",
              "    .dataframe tbody tr th {\n",
              "        vertical-align: top;\n",
              "    }\n",
              "\n",
              "    .dataframe thead th {\n",
              "        text-align: right;\n",
              "    }\n",
              "</style>\n",
              "<table border=\"1\" class=\"dataframe\">\n",
              "  <thead>\n",
              "    <tr style=\"text-align: right;\">\n",
              "      <th></th>\n",
              "      <th>id_usuario</th>\n",
              "      <th>id_filmes</th>\n",
              "      <th>nota</th>\n",
              "      <th>timestamp</th>\n",
              "      <th>nomes</th>\n",
              "      <th>categorias</th>\n",
              "      <th>adventure</th>\n",
              "      <th>comedy</th>\n",
              "      <th>action</th>\n",
              "      <th>animation</th>\n",
              "      <th>drama</th>\n",
              "      <th>crime</th>\n",
              "      <th>sci-fi</th>\n",
              "      <th>children</th>\n",
              "      <th>documentary</th>\n",
              "      <th>mystery</th>\n",
              "      <th>thriller</th>\n",
              "      <th>horror</th>\n",
              "      <th>fantasy</th>\n",
              "      <th>western</th>\n",
              "      <th>film-noir</th>\n",
              "      <th>romance</th>\n",
              "      <th>war</th>\n",
              "      <th>musical</th>\n",
              "    </tr>\n",
              "  </thead>\n",
              "  <tbody>\n",
              "    <tr>\n",
              "      <th>0</th>\n",
              "      <td>215</td>\n",
              "      <td>1</td>\n",
              "      <td>5.0</td>\n",
              "      <td>949015769</td>\n",
              "      <td>Toy Story (1995)</td>\n",
              "      <td>Adventure|Animation|Children|Comedy|Fantasy</td>\n",
              "      <td>1</td>\n",
              "      <td>1</td>\n",
              "      <td>0</td>\n",
              "      <td>1</td>\n",
              "      <td>0</td>\n",
              "      <td>0</td>\n",
              "      <td>0</td>\n",
              "      <td>1</td>\n",
              "      <td>0</td>\n",
              "      <td>0</td>\n",
              "      <td>0</td>\n",
              "      <td>0</td>\n",
              "      <td>1</td>\n",
              "      <td>0</td>\n",
              "      <td>0</td>\n",
              "      <td>0</td>\n",
              "      <td>0</td>\n",
              "      <td>0</td>\n",
              "    </tr>\n",
              "    <tr>\n",
              "      <th>1</th>\n",
              "      <td>215</td>\n",
              "      <td>2</td>\n",
              "      <td>4.0</td>\n",
              "      <td>949008881</td>\n",
              "      <td>Jumanji (1995)</td>\n",
              "      <td>Adventure|Children|Fantasy</td>\n",
              "      <td>1</td>\n",
              "      <td>0</td>\n",
              "      <td>0</td>\n",
              "      <td>0</td>\n",
              "      <td>0</td>\n",
              "      <td>0</td>\n",
              "      <td>0</td>\n",
              "      <td>1</td>\n",
              "      <td>0</td>\n",
              "      <td>0</td>\n",
              "      <td>0</td>\n",
              "      <td>0</td>\n",
              "      <td>1</td>\n",
              "      <td>0</td>\n",
              "      <td>0</td>\n",
              "      <td>0</td>\n",
              "      <td>0</td>\n",
              "      <td>0</td>\n",
              "    </tr>\n",
              "    <tr>\n",
              "      <th>2</th>\n",
              "      <td>215</td>\n",
              "      <td>6</td>\n",
              "      <td>5.0</td>\n",
              "      <td>948259719</td>\n",
              "      <td>Heat (1995)</td>\n",
              "      <td>Action|Crime|Thriller</td>\n",
              "      <td>0</td>\n",
              "      <td>0</td>\n",
              "      <td>1</td>\n",
              "      <td>0</td>\n",
              "      <td>0</td>\n",
              "      <td>1</td>\n",
              "      <td>0</td>\n",
              "      <td>0</td>\n",
              "      <td>0</td>\n",
              "      <td>0</td>\n",
              "      <td>1</td>\n",
              "      <td>0</td>\n",
              "      <td>0</td>\n",
              "      <td>0</td>\n",
              "      <td>0</td>\n",
              "      <td>0</td>\n",
              "      <td>0</td>\n",
              "      <td>0</td>\n",
              "    </tr>\n",
              "    <tr>\n",
              "      <th>3</th>\n",
              "      <td>215</td>\n",
              "      <td>10</td>\n",
              "      <td>4.0</td>\n",
              "      <td>949008811</td>\n",
              "      <td>GoldenEye (1995)</td>\n",
              "      <td>Action|Adventure|Thriller</td>\n",
              "      <td>1</td>\n",
              "      <td>0</td>\n",
              "      <td>1</td>\n",
              "      <td>0</td>\n",
              "      <td>0</td>\n",
              "      <td>0</td>\n",
              "      <td>0</td>\n",
              "      <td>0</td>\n",
              "      <td>0</td>\n",
              "      <td>0</td>\n",
              "      <td>1</td>\n",
              "      <td>0</td>\n",
              "      <td>0</td>\n",
              "      <td>0</td>\n",
              "      <td>0</td>\n",
              "      <td>0</td>\n",
              "      <td>0</td>\n",
              "      <td>0</td>\n",
              "    </tr>\n",
              "    <tr>\n",
              "      <th>4</th>\n",
              "      <td>215</td>\n",
              "      <td>11</td>\n",
              "      <td>4.0</td>\n",
              "      <td>949016452</td>\n",
              "      <td>American President, The (1995)</td>\n",
              "      <td>Comedy|Drama|Romance</td>\n",
              "      <td>0</td>\n",
              "      <td>1</td>\n",
              "      <td>0</td>\n",
              "      <td>0</td>\n",
              "      <td>1</td>\n",
              "      <td>0</td>\n",
              "      <td>0</td>\n",
              "      <td>0</td>\n",
              "      <td>0</td>\n",
              "      <td>0</td>\n",
              "      <td>0</td>\n",
              "      <td>0</td>\n",
              "      <td>0</td>\n",
              "      <td>0</td>\n",
              "      <td>0</td>\n",
              "      <td>1</td>\n",
              "      <td>0</td>\n",
              "      <td>0</td>\n",
              "    </tr>\n",
              "  </tbody>\n",
              "</table>\n",
              "</div>"
            ],
            "text/plain": [
              "   id_usuario  id_filmes  nota  timestamp  ... film-noir romance  war  musical\n",
              "0         215          1   5.0  949015769  ...         0       0    0        0\n",
              "1         215          2   4.0  949008881  ...         0       0    0        0\n",
              "2         215          6   5.0  948259719  ...         0       0    0        0\n",
              "3         215         10   4.0  949008811  ...         0       0    0        0\n",
              "4         215         11   4.0  949016452  ...         0       1    0        0\n",
              "\n",
              "[5 rows x 24 columns]"
            ]
          },
          "metadata": {
            "tags": []
          },
          "execution_count": 54
        }
      ]
    },
    {
      "cell_type": "code",
      "metadata": {
        "colab": {
          "base_uri": "https://localhost:8080/",
          "height": 332
        },
        "id": "QzBVHh_9GyC_",
        "outputId": "1ae76bfe-b54d-41c4-db8a-b1fa511c3c2d"
      },
      "source": [
        "df_pre_sug.iloc[:,6:] = df_pre_sug.iloc[:,6:].multiply( df_pre_sug.nota, axis='index' )\n",
        "df_pre_sug.head()"
      ],
      "execution_count": 55,
      "outputs": [
        {
          "output_type": "execute_result",
          "data": {
            "text/html": [
              "<div>\n",
              "<style scoped>\n",
              "    .dataframe tbody tr th:only-of-type {\n",
              "        vertical-align: middle;\n",
              "    }\n",
              "\n",
              "    .dataframe tbody tr th {\n",
              "        vertical-align: top;\n",
              "    }\n",
              "\n",
              "    .dataframe thead th {\n",
              "        text-align: right;\n",
              "    }\n",
              "</style>\n",
              "<table border=\"1\" class=\"dataframe\">\n",
              "  <thead>\n",
              "    <tr style=\"text-align: right;\">\n",
              "      <th></th>\n",
              "      <th>id_usuario</th>\n",
              "      <th>id_filmes</th>\n",
              "      <th>nota</th>\n",
              "      <th>timestamp</th>\n",
              "      <th>nomes</th>\n",
              "      <th>categorias</th>\n",
              "      <th>adventure</th>\n",
              "      <th>comedy</th>\n",
              "      <th>action</th>\n",
              "      <th>animation</th>\n",
              "      <th>drama</th>\n",
              "      <th>crime</th>\n",
              "      <th>sci-fi</th>\n",
              "      <th>children</th>\n",
              "      <th>documentary</th>\n",
              "      <th>mystery</th>\n",
              "      <th>thriller</th>\n",
              "      <th>horror</th>\n",
              "      <th>fantasy</th>\n",
              "      <th>western</th>\n",
              "      <th>film-noir</th>\n",
              "      <th>romance</th>\n",
              "      <th>war</th>\n",
              "      <th>musical</th>\n",
              "    </tr>\n",
              "  </thead>\n",
              "  <tbody>\n",
              "    <tr>\n",
              "      <th>0</th>\n",
              "      <td>215</td>\n",
              "      <td>1</td>\n",
              "      <td>5.0</td>\n",
              "      <td>949015769</td>\n",
              "      <td>Toy Story (1995)</td>\n",
              "      <td>Adventure|Animation|Children|Comedy|Fantasy</td>\n",
              "      <td>5.0</td>\n",
              "      <td>5.0</td>\n",
              "      <td>0.0</td>\n",
              "      <td>5.0</td>\n",
              "      <td>0.0</td>\n",
              "      <td>0.0</td>\n",
              "      <td>0.0</td>\n",
              "      <td>5.0</td>\n",
              "      <td>0.0</td>\n",
              "      <td>0.0</td>\n",
              "      <td>0.0</td>\n",
              "      <td>0.0</td>\n",
              "      <td>5.0</td>\n",
              "      <td>0.0</td>\n",
              "      <td>0.0</td>\n",
              "      <td>0.0</td>\n",
              "      <td>0.0</td>\n",
              "      <td>0.0</td>\n",
              "    </tr>\n",
              "    <tr>\n",
              "      <th>1</th>\n",
              "      <td>215</td>\n",
              "      <td>2</td>\n",
              "      <td>4.0</td>\n",
              "      <td>949008881</td>\n",
              "      <td>Jumanji (1995)</td>\n",
              "      <td>Adventure|Children|Fantasy</td>\n",
              "      <td>4.0</td>\n",
              "      <td>0.0</td>\n",
              "      <td>0.0</td>\n",
              "      <td>0.0</td>\n",
              "      <td>0.0</td>\n",
              "      <td>0.0</td>\n",
              "      <td>0.0</td>\n",
              "      <td>4.0</td>\n",
              "      <td>0.0</td>\n",
              "      <td>0.0</td>\n",
              "      <td>0.0</td>\n",
              "      <td>0.0</td>\n",
              "      <td>4.0</td>\n",
              "      <td>0.0</td>\n",
              "      <td>0.0</td>\n",
              "      <td>0.0</td>\n",
              "      <td>0.0</td>\n",
              "      <td>0.0</td>\n",
              "    </tr>\n",
              "    <tr>\n",
              "      <th>2</th>\n",
              "      <td>215</td>\n",
              "      <td>6</td>\n",
              "      <td>5.0</td>\n",
              "      <td>948259719</td>\n",
              "      <td>Heat (1995)</td>\n",
              "      <td>Action|Crime|Thriller</td>\n",
              "      <td>0.0</td>\n",
              "      <td>0.0</td>\n",
              "      <td>5.0</td>\n",
              "      <td>0.0</td>\n",
              "      <td>0.0</td>\n",
              "      <td>5.0</td>\n",
              "      <td>0.0</td>\n",
              "      <td>0.0</td>\n",
              "      <td>0.0</td>\n",
              "      <td>0.0</td>\n",
              "      <td>5.0</td>\n",
              "      <td>0.0</td>\n",
              "      <td>0.0</td>\n",
              "      <td>0.0</td>\n",
              "      <td>0.0</td>\n",
              "      <td>0.0</td>\n",
              "      <td>0.0</td>\n",
              "      <td>0.0</td>\n",
              "    </tr>\n",
              "    <tr>\n",
              "      <th>3</th>\n",
              "      <td>215</td>\n",
              "      <td>10</td>\n",
              "      <td>4.0</td>\n",
              "      <td>949008811</td>\n",
              "      <td>GoldenEye (1995)</td>\n",
              "      <td>Action|Adventure|Thriller</td>\n",
              "      <td>4.0</td>\n",
              "      <td>0.0</td>\n",
              "      <td>4.0</td>\n",
              "      <td>0.0</td>\n",
              "      <td>0.0</td>\n",
              "      <td>0.0</td>\n",
              "      <td>0.0</td>\n",
              "      <td>0.0</td>\n",
              "      <td>0.0</td>\n",
              "      <td>0.0</td>\n",
              "      <td>4.0</td>\n",
              "      <td>0.0</td>\n",
              "      <td>0.0</td>\n",
              "      <td>0.0</td>\n",
              "      <td>0.0</td>\n",
              "      <td>0.0</td>\n",
              "      <td>0.0</td>\n",
              "      <td>0.0</td>\n",
              "    </tr>\n",
              "    <tr>\n",
              "      <th>4</th>\n",
              "      <td>215</td>\n",
              "      <td>11</td>\n",
              "      <td>4.0</td>\n",
              "      <td>949016452</td>\n",
              "      <td>American President, The (1995)</td>\n",
              "      <td>Comedy|Drama|Romance</td>\n",
              "      <td>0.0</td>\n",
              "      <td>4.0</td>\n",
              "      <td>0.0</td>\n",
              "      <td>0.0</td>\n",
              "      <td>4.0</td>\n",
              "      <td>0.0</td>\n",
              "      <td>0.0</td>\n",
              "      <td>0.0</td>\n",
              "      <td>0.0</td>\n",
              "      <td>0.0</td>\n",
              "      <td>0.0</td>\n",
              "      <td>0.0</td>\n",
              "      <td>0.0</td>\n",
              "      <td>0.0</td>\n",
              "      <td>0.0</td>\n",
              "      <td>4.0</td>\n",
              "      <td>0.0</td>\n",
              "      <td>0.0</td>\n",
              "    </tr>\n",
              "  </tbody>\n",
              "</table>\n",
              "</div>"
            ],
            "text/plain": [
              "   id_usuario  id_filmes  nota  timestamp  ... film-noir romance  war  musical\n",
              "0         215          1   5.0  949015769  ...       0.0     0.0  0.0      0.0\n",
              "1         215          2   4.0  949008881  ...       0.0     0.0  0.0      0.0\n",
              "2         215          6   5.0  948259719  ...       0.0     0.0  0.0      0.0\n",
              "3         215         10   4.0  949008811  ...       0.0     0.0  0.0      0.0\n",
              "4         215         11   4.0  949016452  ...       0.0     4.0  0.0      0.0\n",
              "\n",
              "[5 rows x 24 columns]"
            ]
          },
          "metadata": {
            "tags": []
          },
          "execution_count": 55
        }
      ]
    },
    {
      "cell_type": "code",
      "metadata": {
        "colab": {
          "base_uri": "https://localhost:8080/"
        },
        "id": "Picmqc6fHM1j",
        "outputId": "1f3c9e85-0d5c-4fef-cd94-738db916e451"
      },
      "source": [
        "df_pre_sug.drop(labels=['id_usuario', 'id_filmes', 'timestamp'], inplace=True, axis='columns')\n",
        "df_feature_usuario_x = df_pre_sug.mean()\n",
        "df_feature_usuario_x"
      ],
      "execution_count": 56,
      "outputs": [
        {
          "output_type": "execute_result",
          "data": {
            "text/plain": [
              "nota           4.165862\n",
              "adventure      0.774155\n",
              "comedy         1.550725\n",
              "action         1.260467\n",
              "animation      0.175926\n",
              "drama          2.053945\n",
              "crime          0.932770\n",
              "sci-fi         0.562399\n",
              "children       0.194444\n",
              "documentary    0.070048\n",
              "mystery        0.360709\n",
              "thriller       1.187198\n",
              "horror         0.311997\n",
              "fantasy        0.370370\n",
              "western        0.126006\n",
              "film-noir      0.150161\n",
              "romance        0.627617\n",
              "war            0.214976\n",
              "musical        0.134461\n",
              "dtype: float64"
            ]
          },
          "metadata": {
            "tags": []
          },
          "execution_count": 56
        }
      ]
    },
    {
      "cell_type": "code",
      "metadata": {
        "colab": {
          "base_uri": "https://localhost:8080/"
        },
        "id": "go8DJKOoIkAw",
        "outputId": "ccf0b808-331c-4dea-c991-5b736b78bb1a"
      },
      "source": [
        "df_feature_usuario_x.values"
      ],
      "execution_count": 57,
      "outputs": [
        {
          "output_type": "execute_result",
          "data": {
            "text/plain": [
              "array([4.16586151, 0.77415459, 1.55072464, 1.26046699, 0.17592593,\n",
              "       2.05394525, 0.93276973, 0.56239936, 0.19444444, 0.07004831,\n",
              "       0.36070853, 1.18719807, 0.31199678, 0.37037037, 0.12600644,\n",
              "       0.15016103, 0.62761675, 0.21497585, 0.13446055])"
            ]
          },
          "metadata": {
            "tags": []
          },
          "execution_count": 57
        }
      ]
    },
    {
      "cell_type": "code",
      "metadata": {
        "colab": {
          "base_uri": "https://localhost:8080/"
        },
        "id": "EfsAWWymFd7Z",
        "outputId": "764fa8b6-2d4b-42b7-dcbc-8ff83485fd96"
      },
      "source": [
        "# descobri qual é o grupo\n",
        "grupo_usuario_x = km.predict( [df_feature_usuario_x.values] )[0]\n",
        "print(grupo_usuario_x)"
      ],
      "execution_count": 58,
      "outputs": [
        {
          "output_type": "stream",
          "text": [
            "3\n"
          ],
          "name": "stdout"
        }
      ]
    },
    {
      "cell_type": "code",
      "metadata": {
        "colab": {
          "base_uri": "https://localhost:8080/"
        },
        "id": "o2I0Kuh5JlVS",
        "outputId": "342caa39-86ed-4193-f010-1cc9d32c7104"
      },
      "source": [
        "# oq o usuario já assistiu?\n",
        "lista_assistidos = list(df_usuario_x.id_filmes.values)\n",
        "print(lista_assistidos)\n"
      ],
      "execution_count": 59,
      "outputs": [
        {
          "output_type": "stream",
          "text": [
            "[1, 2, 6, 10, 11, 15, 16, 17, 21, 22, 25, 26, 29, 32, 34, 36, 39, 41, 44, 47, 49, 50, 52, 59, 65, 70, 76, 81, 93, 94, 95, 110, 111, 112, 122, 125, 141, 149, 150, 151, 153, 156, 159, 160, 161, 162, 163, 164, 165, 172, 173, 176, 183, 194, 198, 203, 204, 208, 210, 223, 224, 229, 234, 235, 236, 247, 252, 256, 259, 260, 266, 268, 288, 292, 293, 296, 300, 303, 305, 316, 317, 318, 319, 322, 327, 329, 334, 335, 339, 341, 344, 345, 348, 349, 350, 353, 356, 357, 364, 367, 368, 369, 373, 376, 377, 379, 380, 410, 412, 415, 420, 431, 434, 442, 444, 448, 454, 456, 457, 464, 466, 471, 474, 475, 477, 479, 480, 482, 485, 491, 492, 494, 496, 497, 500, 501, 503, 504, 506, 507, 508, 512, 514, 517, 521, 529, 532, 535, 538, 541, 546, 551, 552, 553, 555, 562, 583, 586, 587, 588, 589, 592, 593, 595, 597, 599, 608, 610, 628, 648, 661, 663, 664, 671, 673, 695, 707, 708, 714, 719, 720, 733, 736, 737, 741, 745, 750, 757, 761, 762, 766, 778, 780, 784, 786, 788, 798, 799, 800, 806, 838, 846, 849, 851, 852, 858, 861, 864, 866, 869, 880, 898, 903, 904, 905, 908, 909, 910, 912, 913, 919, 920, 922, 923, 924, 926, 950, 951, 953, 954, 955, 968, 994, 996, 999, 1020, 1027, 1029, 1036, 1037, 1041, 1047, 1050, 1057, 1059, 1060, 1077, 1079, 1080, 1084, 1089, 1091, 1094, 1095, 1097, 1116, 1120, 1127, 1129, 1132, 1136, 1148, 1171, 1172, 1175, 1177, 1178, 1179, 1183, 1187, 1188, 1189, 1193, 1196, 1197, 1198, 1199, 1200, 1202, 1203, 1204, 1206, 1207, 1208, 1209, 1210, 1212, 1213, 1214, 1215, 1218, 1219, 1220, 1221, 1222, 1223, 1225, 1228, 1230, 1233, 1234, 1235, 1236, 1240, 1241, 1242, 1243, 1245, 1247, 1248, 1249, 1250, 1251, 1252, 1255, 1256, 1257, 1258, 1259, 1260, 1261, 1262, 1264, 1265, 1266, 1267, 1268, 1270, 1273, 1274, 1275, 1276, 1277, 1278, 1279, 1282, 1283, 1284, 1285, 1288, 1291, 1295, 1297, 1300, 1303, 1304, 1306, 1307, 1320, 1321, 1336, 1339, 1343, 1348, 1352, 1354, 1356, 1357, 1358, 1364, 1365, 1366, 1370, 1371, 1372, 1374, 1375, 1376, 1377, 1378, 1379, 1381, 1385, 1387, 1391, 1392, 1393, 1394, 1396, 1407, 1409, 1411, 1412, 1414, 1429, 1441, 1446, 1449, 1464, 1466, 1476, 1482, 1485, 1499, 1500, 1513, 1517, 1527, 1541, 1544, 1545, 1546, 1550, 1552, 1554, 1570, 1573, 1580, 1584, 1589, 1590, 1591, 1594, 1597, 1603, 1605, 1610, 1614, 1615, 1616, 1617, 1620, 1625, 1627, 1635, 1641, 1643, 1645, 1646, 1653, 1658, 1673, 1676, 1682, 1689, 1690, 1696, 1701, 1704, 1711, 1713, 1721, 1722, 1729, 1730, 1732, 1747, 1748, 1760, 1777, 1783, 1784, 1791, 1799, 1805, 1809, 1831, 1834, 1841, 1845, 1857, 1861, 1862, 1875, 1876, 1882, 1883, 1884, 1889, 1895, 1904, 1909, 1912, 1916, 1917, 1918, 1921, 1923, 1924, 1944, 1946, 1947, 1952, 1953, 1954, 1960, 1961, 1963, 1964, 1965, 1968, 1994, 1997, 2000, 2001, 2002, 2006, 2010, 2011, 2012, 2019, 2020, 2022, 2023, 2024, 2028, 2052, 2054, 2058, 2065, 2068, 2076, 2086, 2088, 2093, 2094, 2097, 2105, 2108, 2110, 2115, 2117, 2124, 2126, 2133, 2134, 2140, 2143, 2148, 2153, 2163, 2167, 2174, 2189, 2194, 2203, 2231, 2232, 2237, 2238, 2239, 2243, 2247, 2248, 2249, 2252, 2255, 2259, 2261, 2272, 2273, 2278, 2288, 2289, 2291, 2295, 2297, 2300, 2302, 2310, 2311, 2318, 2321, 2322, 2324, 2333, 2336, 2342, 2344, 2349, 2350, 2353, 2355, 2364, 2369, 2370, 2371, 2384, 2387, 2390, 2391, 2393, 2394, 2395, 2396, 2401, 2405, 2406, 2407, 2413, 2414, 2427, 2428, 2435, 2439, 2448, 2450, 2455, 2456, 2457, 2463, 2467, 2468, 2469, 2470, 2471, 2476, 2477, 2482, 2490, 2493, 2502, 2511, 2540, 2542, 2550, 2551, 2557, 2561, 2571, 2580, 2582, 2593, 2599, 2616, 2617, 2621, 2625, 2628, 2640, 2641, 2642, 2657, 2660, 2664, 2686, 2692, 2693, 2699, 2700, 2701, 2706, 2709, 2710, 2712, 2716, 2723, 2726, 2735, 2746, 2752, 2759, 2761, 2762, 2764, 2770, 2788, 2791, 2792, 2793, 2797, 2804, 2808, 2810, 2826, 2830, 2841, 2849, 2858, 2863, 2867, 2871, 2879, 2890, 2912, 2916, 2918, 2944, 2946, 2952, 2959, 2966, 2968, 2973, 2985, 2986, 2987, 2997, 3000, 3006, 3007, 3008, 3022, 3030, 3033, 3037, 3039, 3044, 3045, 3046, 3052, 3060, 3068, 3070, 3072, 3076, 3081, 3089, 3097, 3104, 3105, 3107, 3108, 3113, 3114, 3120, 3129, 3130, 3148, 3160, 3175, 3184, 3189, 3198, 3241, 3247, 3252, 3253, 3256, 3258, 3261, 3264, 3265, 3266, 3267, 3272, 3275, 3276, 3300, 3301, 3307, 3310, 3317, 3328, 3334, 3342, 3355, 3361, 3362, 3384, 3386, 3396, 3408, 3418, 3429, 3435, 3452, 3476, 3481, 3494, 3499, 3504, 3508, 3510, 3514, 3527, 3551, 3555, 3559, 3566, 3571, 3578, 3593, 3623, 3624, 3632, 3635, 3654, 3698, 3701, 3703, 3717, 3726, 3727, 3728, 3729, 3730, 3742, 3744, 3745, 3747, 3751, 3753, 3755, 3783, 3793, 3798, 3819, 3826, 3827, 3852, 3863, 3871, 3876, 3893, 3895, 3897, 3905, 3910, 3911, 3915, 3916, 3946, 3949, 3950, 3966, 3967, 3969, 3977, 3983, 3986, 3994, 3996, 3998, 3999, 4011, 4014, 4015, 4016, 4018, 4020, 4021, 4022, 4027, 4029, 4031, 4034, 4036, 4037, 4038, 4055, 4056, 4085, 4105, 4117, 4166, 4190, 4210, 4225, 4226, 4232, 4238, 4262, 4270, 4272, 4298, 4299, 4306, 4321, 4327, 4344, 4350, 4361, 4367, 4370, 4378, 4380, 4383, 4387, 4422, 4426, 4427, 4432, 4446, 4448, 4465, 4498, 4499, 4506, 4531, 4546, 4570, 4612, 4640, 4641, 4690, 4720, 4783, 4833, 4844, 4848, 4855, 4868, 4878, 4881, 4886, 4889, 4896, 4901, 4903, 4958, 4963, 4967, 4973, 4979, 4993, 4995, 5010, 5026, 5027, 5049, 5060, 5072, 5093, 5120, 5147, 5187, 5219, 5254, 5291, 5292, 5313, 5325, 5333, 5339, 5349, 5378, 5388, 5400, 5418, 5420, 5442, 5445, 5462, 5463, 5464, 5504, 5507, 5524, 5553, 5618, 5674, 5689, 5692, 5693, 5747, 5752, 5782, 5816, 5820, 5843, 5859, 5867, 5872, 5893, 5902, 5914, 5952, 5956, 5966, 5968, 5989, 5991, 5995, 6001, 6003, 6016, 6027, 6104, 6156, 6157, 6210, 6213, 6218, 6264, 6273, 6294, 6300, 6331, 6333, 6365, 6377, 6429, 6440, 6448, 6460, 6467, 6484, 6503, 6534, 6537, 6539, 6541, 6564, 6566, 6576, 6583, 6595, 6618, 6620, 6624, 6659, 6663, 6664, 6667, 6721, 6754, 6755, 6764, 6773, 6787, 6806, 6808, 6857, 6867, 6870, 6872, 6874, 6893, 6920, 6932, 6934, 6947, 6957, 6985, 7022, 7025, 7027, 7028, 7072, 7073, 7076, 7090, 7116, 7118, 7132, 7143, 7147, 7153, 7162, 7163, 7164, 7218, 7234, 7263, 7325, 7335, 7348, 7361, 7367, 7373, 7376, 7382, 7387, 7419, 7438, 7445, 7454, 7460, 7561, 7566, 7587, 7700, 7706, 7728, 7762, 7769, 7802, 7820, 7844, 7897, 7915, 7924, 7925, 7926, 8094, 8117, 8125, 8157, 8207, 8228, 8253, 8327, 8334, 8340, 8366, 8368, 8369, 8370, 8371, 8464, 8492, 8493, 8495, 8507, 8520, 8622, 8623, 8636, 8665, 8772, 8784, 8798, 8810, 8865, 8874, 8917, 8930, 8949, 8961, 8972, 8983, 8984, 25750, 25940, 26119, 26171, 26172, 26375, 26840, 26939, 27005, 27721, 27801, 27831, 27846, 27904, 30810, 30812, 31086, 31101, 31184, 31420, 31485, 31696, 31705, 31770, 31878, 31923, 32029, 32179, 32587, 32596, 32770, 33004, 33166, 33437, 33493, 33679, 33794, 34048, 34319, 34332, 34405, 34583, 36517, 36529, 37382, 37733, 37853, 37857, 38038, 38061, 39183, 39292, 39381, 40412, 40414, 40583, 40732, 40819, 40870, 40959, 41569, 41863, 42418, 44191, 44199, 44555, 44849, 45183, 45186, 46578, 46965, 47200, 47629, 47894, 48043, 48082, 48304, 48394, 48516, 48696, 48738, 48774, 48780, 49132, 49272, 49278, 49530, 49961, 50872, 51007, 51255, 51540, 52042, 52281, 52328, 52579, 52885, 53123, 53189, 53460, 53519, 53972, 54190, 54286, 54736, 54995, 54997, 54999, 55080, 55118, 55253, 55765, 55805, 55814, 55820, 56286, 56782, 57669, 58295, 58492, 58559, 58803, 59103, 59315, 60069, 60647, 60766, 60943, 61323]\n"
          ],
          "name": "stdout"
        }
      ]
    },
    {
      "cell_type": "code",
      "metadata": {
        "colab": {
          "base_uri": "https://localhost:8080/"
        },
        "id": "qc-tlheBGYVp",
        "outputId": "c2dbf0d0-4ce7-4a00-ba04-e8cf99d1b64e"
      },
      "source": [
        "#filtro para o que não assistiu\n",
        "~(df_final[ grupo_usuario_x ].id_filmes.isin( lista_assistidos ))"
      ],
      "execution_count": 60,
      "outputs": [
        {
          "output_type": "execute_result",
          "data": {
            "text/plain": [
              "843     False\n",
              "315     False\n",
              "1181    False\n",
              "523      True\n",
              "895     False\n",
              "        ...  \n",
              "269      True\n",
              "588      True\n",
              "1580    False\n",
              "2159    False\n",
              "0       False\n",
              "Name: id_filmes, Length: 200, dtype: bool"
            ]
          },
          "metadata": {
            "tags": []
          },
          "execution_count": 60
        }
      ]
    },
    {
      "cell_type": "code",
      "metadata": {
        "colab": {
          "base_uri": "https://localhost:8080/",
          "height": 340
        },
        "id": "mdG3jwuTJQNZ",
        "outputId": "768c4446-71d1-46fd-ee59-a8df338f5870"
      },
      "source": [
        "sugestao = df_final[ grupo_usuario_x ][ ~(df_final[ grupo_usuario_x ].id_filmes.isin( lista_assistidos )) ]\n",
        "sugestao[['nota','id_filmes','nomes','categorias']].head(10)\n"
      ],
      "execution_count": 61,
      "outputs": [
        {
          "output_type": "execute_result",
          "data": {
            "text/html": [
              "<div>\n",
              "<style scoped>\n",
              "    .dataframe tbody tr th:only-of-type {\n",
              "        vertical-align: middle;\n",
              "    }\n",
              "\n",
              "    .dataframe tbody tr th {\n",
              "        vertical-align: top;\n",
              "    }\n",
              "\n",
              "    .dataframe thead th {\n",
              "        text-align: right;\n",
              "    }\n",
              "</style>\n",
              "<table border=\"1\" class=\"dataframe\">\n",
              "  <thead>\n",
              "    <tr style=\"text-align: right;\">\n",
              "      <th></th>\n",
              "      <th>nota</th>\n",
              "      <th>id_filmes</th>\n",
              "      <th>nomes</th>\n",
              "      <th>categorias</th>\n",
              "    </tr>\n",
              "  </thead>\n",
              "  <tbody>\n",
              "    <tr>\n",
              "      <th>523</th>\n",
              "      <td>4.495612</td>\n",
              "      <td>527</td>\n",
              "      <td>Schindler's List (1993)</td>\n",
              "      <td>Drama|War</td>\n",
              "    </tr>\n",
              "    <tr>\n",
              "      <th>1861</th>\n",
              "      <td>4.400000</td>\n",
              "      <td>1945</td>\n",
              "      <td>On the Waterfront (1954)</td>\n",
              "      <td>Crime|Drama</td>\n",
              "    </tr>\n",
              "    <tr>\n",
              "      <th>1270</th>\n",
              "      <td>4.347682</td>\n",
              "      <td>1299</td>\n",
              "      <td>Killing Fields, The (1984)</td>\n",
              "      <td>Drama|War</td>\n",
              "    </tr>\n",
              "    <tr>\n",
              "      <th>952</th>\n",
              "      <td>4.329747</td>\n",
              "      <td>969</td>\n",
              "      <td>African Queen, The (1951)</td>\n",
              "      <td>Adventure|Comedy|Romance|War</td>\n",
              "    </tr>\n",
              "    <tr>\n",
              "      <th>1082</th>\n",
              "      <td>4.325123</td>\n",
              "      <td>1104</td>\n",
              "      <td>Streetcar Named Desire, A (1951)</td>\n",
              "      <td>Drama</td>\n",
              "    </tr>\n",
              "    <tr>\n",
              "      <th>243</th>\n",
              "      <td>4.295504</td>\n",
              "      <td>246</td>\n",
              "      <td>Hoop Dreams (1994)</td>\n",
              "      <td>Documentary</td>\n",
              "    </tr>\n",
              "    <tr>\n",
              "      <th>303</th>\n",
              "      <td>4.284759</td>\n",
              "      <td>306</td>\n",
              "      <td>Three Colors: Red (Trois couleurs: Rouge) (1994)</td>\n",
              "      <td>Drama</td>\n",
              "    </tr>\n",
              "    <tr>\n",
              "      <th>1265</th>\n",
              "      <td>4.283767</td>\n",
              "      <td>1293</td>\n",
              "      <td>Gandhi (1982)</td>\n",
              "      <td>Drama</td>\n",
              "    </tr>\n",
              "    <tr>\n",
              "      <th>1216</th>\n",
              "      <td>4.276382</td>\n",
              "      <td>1244</td>\n",
              "      <td>Manhattan (1979)</td>\n",
              "      <td>Comedy|Drama|Romance</td>\n",
              "    </tr>\n",
              "    <tr>\n",
              "      <th>882</th>\n",
              "      <td>4.267459</td>\n",
              "      <td>899</td>\n",
              "      <td>Singin' in the Rain (1952)</td>\n",
              "      <td>Comedy|Musical|Romance</td>\n",
              "    </tr>\n",
              "  </tbody>\n",
              "</table>\n",
              "</div>"
            ],
            "text/plain": [
              "          nota  ...                    categorias\n",
              "523   4.495612  ...                     Drama|War\n",
              "1861  4.400000  ...                   Crime|Drama\n",
              "1270  4.347682  ...                     Drama|War\n",
              "952   4.329747  ...  Adventure|Comedy|Romance|War\n",
              "1082  4.325123  ...                         Drama\n",
              "243   4.295504  ...                   Documentary\n",
              "303   4.284759  ...                         Drama\n",
              "1265  4.283767  ...                         Drama\n",
              "1216  4.276382  ...          Comedy|Drama|Romance\n",
              "882   4.267459  ...        Comedy|Musical|Romance\n",
              "\n",
              "[10 rows x 4 columns]"
            ]
          },
          "metadata": {
            "tags": []
          },
          "execution_count": 61
        }
      ]
    },
    {
      "cell_type": "markdown",
      "metadata": {
        "id": "2bwBlyf3KrcR"
      },
      "source": [
        "# Preparando para Deploy"
      ]
    },
    {
      "cell_type": "markdown",
      "metadata": {
        "id": "7_hzV4HzMWed"
      },
      "source": [
        "Salvando os top 200 filmes de cada grupo em um arquivo CSV"
      ]
    },
    {
      "cell_type": "code",
      "metadata": {
        "id": "AYbruy7SKIYc"
      },
      "source": [
        "path_deploy = '/content/drive/MyDrive/Colab Notebooks/Thiago/Sistema_Recomendacao'\n",
        "for i in range(0,k):\n",
        "    nome_completo = path_deploy + '/' + 'tabela_top_grupo_' + str(i) + '.csv'\n",
        "    df_final[i].to_csv(nome_completo)"
      ],
      "execution_count": 63,
      "outputs": []
    },
    {
      "cell_type": "markdown",
      "metadata": {
        "id": "T-EMPBAXMdBD"
      },
      "source": [
        "Salvar o modelo Kmeans"
      ]
    },
    {
      "cell_type": "markdown",
      "metadata": {
        "id": "hnui_PnzLSH6"
      },
      "source": [
        "Tutorial: https://machinelearningmastery.com/save-load-machine-learning-models-python-scikit-learn/"
      ]
    },
    {
      "cell_type": "code",
      "metadata": {
        "id": "ieh2XcsaL56w",
        "colab": {
          "base_uri": "https://localhost:8080/"
        },
        "outputId": "69a5e602-931f-4da6-f6f9-b0359c9f55f7"
      },
      "source": [
        "from joblib import dump\n",
        "\n",
        "arquivo_modelo = path_deploy + '/' + 'modelo_kmeans.joblib'\n",
        "dump( km, arquivo_modelo )\n"
      ],
      "execution_count": 64,
      "outputs": [
        {
          "output_type": "execute_result",
          "data": {
            "text/plain": [
              "['/content/drive/MyDrive/Colab Notebooks/Thiago/Sistema_Recomendacao/modelo_kmeans.joblib']"
            ]
          },
          "metadata": {
            "tags": []
          },
          "execution_count": 64
        }
      ]
    },
    {
      "cell_type": "code",
      "metadata": {
        "id": "sNupihE9Mm36",
        "colab": {
          "base_uri": "https://localhost:8080/"
        },
        "outputId": "9df9d32e-862b-4c4b-d202-2f847a2783e6"
      },
      "source": [
        "km.cluster_centers_"
      ],
      "execution_count": 65,
      "outputs": [
        {
          "output_type": "execute_result",
          "data": {
            "text/plain": [
              "array([[3.74550559, 0.87537683, 2.03337682, 0.81327398, 0.38319687,\n",
              "        1.40041646, 0.38584193, 0.43169616, 0.59410901, 0.02572085,\n",
              "        0.15537798, 0.62447914, 0.15083052, 0.52775884, 0.0645129 ,\n",
              "        0.02472721, 0.96025148, 0.18108856, 0.34425202],\n",
              "       [3.2131007 , 0.69137936, 1.19742722, 0.94167489, 0.16400366,\n",
              "        1.37961448, 0.52254152, 0.46449612, 0.24815513, 0.02728263,\n",
              "        0.20766761, 0.93979424, 0.26790743, 0.31284299, 0.0731184 ,\n",
              "        0.03800552, 0.58265333, 0.19424966, 0.14070277],\n",
              "       [3.77272925, 1.26551973, 1.15187309, 1.75343542, 0.22399633,\n",
              "        1.33009887, 0.67384711, 0.91197237, 0.29879407, 0.0116481 ,\n",
              "        0.22010184, 1.38510731, 0.2752915 , 0.40772525, 0.09300149,\n",
              "        0.0356167 , 0.54525806, 0.26652688, 0.14609348],\n",
              "       [3.83241562, 0.5349186 , 1.36396059, 0.66311245, 0.12218059,\n",
              "        2.34245385, 0.65402633, 0.31068239, 0.19249104, 0.0530169 ,\n",
              "        0.28441276, 0.85733967, 0.16569759, 0.26631133, 0.07507136,\n",
              "        0.08665942, 0.91778153, 0.31485063, 0.15349872]])"
            ]
          },
          "metadata": {
            "tags": []
          },
          "execution_count": 65
        }
      ]
    },
    {
      "cell_type": "code",
      "metadata": {
        "id": "kuGqfceAODFi"
      },
      "source": [
        ""
      ],
      "execution_count": null,
      "outputs": []
    }
  ]
}
